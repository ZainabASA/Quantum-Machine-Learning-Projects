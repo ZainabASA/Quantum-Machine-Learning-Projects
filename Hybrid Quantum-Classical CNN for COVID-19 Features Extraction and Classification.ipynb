{
  "nbformat": 4,
  "nbformat_minor": 0,
  "metadata": {
    "colab": {
      "name": "MS_QCNN+COVID-19.ipynb",
      "provenance": [],
      "collapsed_sections": [],
      "toc_visible": true
    },
    "kernelspec": {
      "display_name": "Python 3",
      "name": "python3"
    }
  },
  "cells": [
    {
      "cell_type": "code",
      "metadata": {
        "id": "cowsjlIB8sNV"
      },
      "source": [
        "#install PennyLane Library\n",
        "!pip install pennylane"
      ],
      "execution_count": null,
      "outputs": []
    },
    {
      "cell_type": "code",
      "metadata": {
        "id": "uLrmPwpOFhBd"
      },
      "source": [
        "#import qml\n",
        "import pennylane as qml\n"
      ],
      "execution_count": null,
      "outputs": []
    },
    {
      "cell_type": "code",
      "metadata": {
        "id": "PELW_mWa8hpP"
      },
      "source": [
        "#import the required packages\n",
        "from pennylane import numpy as np\n",
        "from pennylane.templates import RandomLayers\n",
        "import tensorflow as tf\n",
        "from tensorflow import keras\n",
        "import matplotlib.pyplot as plt\n",
        "import seaborn as sns\n",
        "import os\n",
        "%matplotlib inline"
      ],
      "execution_count": null,
      "outputs": []
    },
    {
      "cell_type": "code",
      "metadata": {
        "id": "B0phWXsN_c1g"
      },
      "source": [
        "#from tensorflow.keras.preprocessing import image\n",
        "#from tensorflow.keras.preprocessing.image import load_img, img_to_array"
      ],
      "execution_count": null,
      "outputs": []
    },
    {
      "cell_type": "markdown",
      "metadata": {
        "id": "1JXviZieVaus"
      },
      "source": [
        " # # *Read COVID images dataset*"
      ]
    },
    {
      "cell_type": "code",
      "metadata": {
        "id": "x7w2kGH17zc7"
      },
      "source": [
        "#Function to read images dataset in grayscale\n",
        "labells = ['NORMAL', 'COVID-19']\n",
        "#labells = ['PNEUMONIA']\n",
        "def get_PNEUMONIA_data(data_dir):\n",
        "    data = [] \n",
        "    for label in labells: \n",
        "        path = os.path.join(data_dir, label)\n",
        "        class_num = labells.index(label)\n",
        "        for img in os.listdir(path):\n",
        "            try:\n",
        "                img_arr = cv2.imread(os.path.join(path, img), cv2.IMREAD_GRAYSCALE)\n",
        "                resized_arr = cv2.resize(img_arr, (28, 28)) \n",
        "                data.append([resized_arr, class_num])\n",
        "            except Exception as e:\n",
        "                print(e)\n",
        "    return np.array(data)\n"
      ],
      "execution_count": null,
      "outputs": []
    },
    {
      "cell_type": "code",
      "metadata": {
        "id": "rmG3hGkLf3ca"
      },
      "source": [
        "#Train images\n",
        "import cv2\n",
        "train_PNEUMONIA = get_PNEUMONIA_data('/content/drive/My Drive/MS/Kaggle/PL/train')\n"
      ],
      "execution_count": null,
      "outputs": []
    },
    {
      "cell_type": "code",
      "metadata": {
        "id": "AgzXkYFSP1xj"
      },
      "source": [
        "#Test images\n",
        "testT_PNEUMONIA = get_PNEUMONIA_data('/content/drive/My Drive/MS/Kaggle/PL/test/')"
      ],
      "execution_count": null,
      "outputs": []
    },
    {
      "cell_type": "code",
      "metadata": {
        "id": "LRL8ArMQg4Gy"
      },
      "source": [
        "#Check number of images in Train and test\n",
        "alldata2 = []\n",
        "for i in testT_PNEUMONIA: #  for i in train_PNEUMONIA\n",
        "    if(i[1] == 0):\n",
        "        alldata2.append(\"Normal\")\n",
        "   # elif(i[1]==1):\n",
        "        #alldata2.append(\"COVID-19\")\n",
        "    else:\n",
        "        alldata2.append(\"COVID-19\")\n",
        "  \n",
        "       \n",
        "sns.set_style('darkgrid')\n",
        "sns.countplot(alldata2)"
      ],
      "execution_count": null,
      "outputs": []
    },
    {
      "cell_type": "code",
      "metadata": {
        "id": "vKOoLvldtLx8",
        "colab": {
          "base_uri": "https://localhost:8080/",
          "height": 34
        },
        "outputId": "609ba7b7-787e-43ff-e551-efe14ac83c6f"
      },
      "source": [
        "#check number and dimensions\n",
        "testT_PNEUMONIA.shape"
      ],
      "execution_count": null,
      "outputs": [
        {
          "output_type": "execute_result",
          "data": {
            "text/plain": [
              "(385, 2)"
            ]
          },
          "metadata": {
            "tags": []
          },
          "execution_count": 15
        }
      ]
    },
    {
      "cell_type": "code",
      "metadata": {
        "id": "h8Iznw_-hn8t"
      },
      "source": [
        "\n",
        "x_train_P = []\n",
        "y_train_P = []\n",
        "\n",
        "x_test_P = []\n",
        "y_test_P = []\n",
        "\n",
        "for feature, label in train_PNEUMONIA:\n",
        "    x_train_P.append(feature)\n",
        "    y_train_P.append(label)\n",
        "\n",
        "for feature, label in testT_PNEUMONIA:\n",
        "    x_test_P.append(feature)\n",
        "    y_test_P.append(label)"
      ],
      "execution_count": null,
      "outputs": []
    },
    {
      "cell_type": "code",
      "metadata": {
        "id": "qKMaFbQIHVT7"
      },
      "source": [
        "#x_train_PP = np.array(x_train_P) \n"
      ],
      "execution_count": null,
      "outputs": []
    },
    {
      "cell_type": "code",
      "metadata": {
        "id": "tc6V15ld6ftb"
      },
      "source": [
        "x_train_PP = np.array(x_train_P) / 255\n",
        "x_test_PP = np.array(x_test_P) / 255"
      ],
      "execution_count": null,
      "outputs": []
    },
    {
      "cell_type": "code",
      "metadata": {
        "id": "d4Kqc1Sf-S4d"
      },
      "source": [
        "x_test_PP.shape"
      ],
      "execution_count": null,
      "outputs": []
    },
    {
      "cell_type": "code",
      "metadata": {
        "id": "itUNGqGF7-eC"
      },
      "source": [
        "y_train=np.array(y_train_P)\n",
        "y_test=np.array(y_test_P)"
      ],
      "execution_count": null,
      "outputs": []
    },
    {
      "cell_type": "code",
      "metadata": {
        "id": "RwSZjezGinv0"
      },
      "source": [
        "# Add new axis # Add extra dimension for convolution channels #train images\n",
        "train_images_P55 = x_train_PP[..., tf.newaxis]\n"
      ],
      "execution_count": null,
      "outputs": []
    },
    {
      "cell_type": "code",
      "metadata": {
        "id": "Zb9d7l0N-p5z"
      },
      "source": [
        "# Add new axis # Add extra dimension for convolution channels #test images\n",
        "train_images_P55 = x_train_PP[..., tf.newaxis]\n",
        "test_images_P = x_test_PP[..., tf.newaxis]"
      ],
      "execution_count": null,
      "outputs": []
    },
    {
      "cell_type": "code",
      "metadata": {
        "id": "IeqziA9Q-peG",
        "colab": {
          "base_uri": "https://localhost:8080/",
          "height": 34
        },
        "outputId": "f584a936-278b-4568-fd79-2b31069f4da6"
      },
      "source": [
        "#Check dimension agter adding\n",
        "test_images_P.shape"
      ],
      "execution_count": null,
      "outputs": [
        {
          "output_type": "execute_result",
          "data": {
            "text/plain": [
              "(385, 28, 28, 1)"
            ]
          },
          "metadata": {
            "tags": []
          },
          "execution_count": 16
        }
      ]
    },
    {
      "cell_type": "markdown",
      "metadata": {
        "id": "B1hRz7GYf258"
      },
      "source": [
        ""
      ]
    },
    {
      "cell_type": "code",
      "metadata": {
        "id": "fVYYCdaWYJSZ"
      },
      "source": [
        "#train_imgs_L=np.asarray(train_imgs_L)\n",
        "#test_imgs_L=np.asarray(test_imgs_L)"
      ],
      "execution_count": null,
      "outputs": []
    },
    {
      "cell_type": "markdown",
      "metadata": {
        "id": "dZ_I-ROE12LP"
      },
      "source": [
        "#Define Qunatum Device from PeenyLane with 1000 and 500 shots"
      ]
    },
    {
      "cell_type": "code",
      "metadata": {
        "id": "Gtw6806P9CWy"
      },
      "source": [
        "\n",
        "n_layers = 4  # Number of random layers\n",
        "SAVE_PATH = \"drive/My Drive/MS/Quantum_COVID_Data/\" \n",
        "PREPROCESS = True          \n",
        "np.random.seed(0)         \n",
        "tf.random.set_seed(0)       "
      ],
      "execution_count": null,
      "outputs": []
    },
    {
      "cell_type": "code",
      "metadata": {
        "id": "I3FjOW7fvZ4w"
      },
      "source": [
        "train_it=test_imgs\n",
        "result_test_imgs=train_it[:,:,:,0]"
      ],
      "execution_count": null,
      "outputs": []
    },
    {
      "cell_type": "code",
      "metadata": {
        "id": "ipbkbqprvAWB"
      },
      "source": [
        "#Quantum Device (default.qubit) with 1000 shots \n",
        "# For RX rotation gate\n",
        "dev1 = qml.device(\"default.qubit\",shots=1000, wires=4)\n",
        "# Random circuit parameters\n",
        "rand_params = np.random.uniform(high=2 * np.pi, size=(1, 4))\n",
        "\n",
        "@qml.qnode(dev1)\n",
        "def circuit_X(phi=None):\n",
        "    # Encoding of 4 classical input values\n",
        "    for j in range(4):\n",
        "        qml.RX(np.pi * phi[j], wires=j)\n",
        "    RandomLayers(rand_params, wires=list(range(4)))\n",
        "    return [qml.expval(qml.PauliZ(j)) for j in range(4)]"
      ],
      "execution_count": null,
      "outputs": []
    },
    {
      "cell_type": "code",
      "metadata": {
        "id": "wt9SZYT3u-5L"
      },
      "source": [
        "#Quantum Device (default.qubit) with 500 shots \n",
        "# For RY rotation gate\n",
        "dev = qml.device(\"default.qubit\",shots=500, wires=4)\n",
        "# Random circuit parameters\n",
        "rand_params = np.random.uniform(high=2 * np.pi, size=(1, 4))\n",
        "\n",
        "@qml.qnode(dev)\n",
        "def circuit(phi=None):\n",
        "    # Encoding of 4 classical input values\n",
        "    for j in range(4):\n",
        "        qml.RY(np.pi * phi[j], wires=j)\n",
        "    RandomLayers(rand_params, wires=list(range(4)))\n",
        "    return [qml.expval(qml.PauliZ(j)) for j in range(4)]"
      ],
      "execution_count": null,
      "outputs": []
    },
    {
      "cell_type": "markdown",
      "metadata": {
        "id": "pIbvu7qXJ_-V"
      },
      "source": [
        "# Quantum Circuit"
      ]
    },
    {
      "cell_type": "code",
      "metadata": {
        "id": "ZwI7L2pYDJo6"
      },
      "source": [
        "#Convolves the input image with the same quantum circuit \n",
        "def quanv(image):\n",
        "    out = np.zeros((14, 14, 4))\n",
        "    for j in range(0, 28, 2):\n",
        "        for k in range(0, 28, 2):\n",
        "            # Process a squared 2x2 region of the image with a quantum circuit\n",
        "            q_results = circuit(\n",
        "                phi=[image[j, k, 0], image[j, k + 1, 0], image[j + 1, k, 0], image[j + 1, k + 1, 0]]\n",
        "            )\n",
        "            # Assign expectation values to different channels of the output pixel (j/2, k/2)\n",
        "            for c in range(4):\n",
        "                out[j // 2, k // 2, c] = q_results[c]\n",
        "    return out"
      ],
      "execution_count": null,
      "outputs": []
    },
    {
      "cell_type": "code",
      "metadata": {
        "id": "l3O1-tJvhpQD"
      },
      "source": [
        "#Convolves the input image with the same quantum circuit \n",
        "def quanv2(image):\n",
        "    out = np.zeros((14, 14, 4))\n",
        "    for j in range(0, 28, 2):\n",
        "        for k in range(0, 28, 2):\n",
        "            # Process a squared 2x2 region of the image with a quantum circuit\n",
        "            q_results = circuit_X(\n",
        "                phi=[image[j, k, 0], image[j, k + 1, 0], image[j + 1, k, 0], image[j + 1, k + 1, 0]]\n",
        "            )\n",
        "            # Assign expectation values to different channels of the output pixel (j/2, k/2)\n",
        "            for c in range(4):\n",
        "                out[j // 2, k // 2, c] = q_results[c]\n",
        "    return out"
      ],
      "execution_count": null,
      "outputs": []
    },
    {
      "cell_type": "code",
      "metadata": {
        "id": "pP9aF6gCnr62"
      },
      "source": [
        "#AA_test_imgs.shape"
      ],
      "execution_count": null,
      "outputs": []
    },
    {
      "cell_type": "markdown",
      "metadata": {
        "id": "OpF-esEZKGhH"
      },
      "source": [
        "# Encoding Images  for quantum data using Rotation gates (RY and RX)"
      ]
    },
    {
      "cell_type": "code",
      "metadata": {
        "id": "BuGLjmKXqNa-"
      },
      "source": [
        "# Encoding iamges for quantum data\n",
        "import time \n",
        "start=time.time()  # for test time of encoding images to quantum data\n",
        "if PREPROCESS == True:\n",
        "    q_train_images = []\n",
        "    print(\"Quantum pre-processing of train images:\")\n",
        "    for idx, img in enumerate(train_images_P55):\n",
        "        #print(\"{}/{}        \".format(idx + 1, 536), end=\"\\r\")\n",
        "        q_train_images.append(quanv(img))\n",
        "    q_train_imagesZX2 = np.asarray(q_train_images)\n",
        "\n",
        "    q_test_images = []\n",
        "    print(\"\\nQuantum pre-processing of test images:\")\n",
        "    for idx, img in enumerate(test_images_P):\n",
        "       #print(\"{}/{}        \".format(idx + 1, 120), end=\"\\r\")\n",
        "       q_test_images.append(quanv(img))\n",
        "    q_test_imagesZX2 = np.asarray(q_test_images)\n",
        "   \n",
        "    # Save pre-processed images\n",
        "    #np.save(SAVE_PATH + \"q_train_images.npy\", q_train_images)\n",
        "    #np.save(SAVE_PATH + \"q_test_images.npy\", q_test_images)\n",
        "\n",
        "print(\"time =\",time.time()-start)\n",
        "# Load pre-processed images\n",
        "#q_train_images = np.load(SAVE_PATH + \"q_train_images.npy\")\n",
        "#q_test_images = np.load(SAVE_PATH + \"q_test_images.npy\")"
      ],
      "execution_count": null,
      "outputs": []
    },
    {
      "cell_type": "code",
      "metadata": {
        "id": "wYUTw2QixHLJ"
      },
      "source": [
        "import time \n",
        "start=time.time()\n",
        "if PREPROCESS == True:\n",
        "    q_train_images = []\n",
        "    print(\"Quantum pre-processing of train images:\")\n",
        "    for idx, img in enumerate(train_images_P55):\n",
        "        #print(\"{}/{}        \".format(idx + 1, 3336), end=\"\\r\")\n",
        "        q_train_images.append(quanv2(img))\n",
        "    q_train_imagesZZ_P2 = np.asarray(q_train_images)\n",
        "\n",
        "    q_test_images = []\n",
        "    print(\"\\nQuantum pre-processing of test images:\")\n",
        "    for idx, img in enumerate(test_images_P):\n",
        "        #print(\"{}/{}        \".format(idx + 1, 624), end=\"\\r\")\n",
        "        q_test_images.append(quanv2(img))\n",
        "\n",
        "    q_test_imagesZ2 = np.asarray(q_test_images)\n",
        "print(\"Total time\",time.time()-start)"
      ],
      "execution_count": null,
      "outputs": []
    },
    {
      "cell_type": "code",
      "metadata": {
        "id": "BYvtyBen3Jo1"
      },
      "source": [
        "import time \n",
        "start=time.time()\n",
        "if PREPROCESS == True:\n",
        "    q_train_images = []\n",
        "    print(\"Quantum pre-processing of train images:\")\n",
        "    for idx, img in enumerate(train_images_P55):\n",
        "        #print(\"{}/{}        \".format(idx + 1, 3336), end=\"\\r\")\n",
        "        q_train_images.append(quanv(img))\n",
        "    q_train_imagesZZ_P = np.asarray(q_train_images)\n",
        "\n",
        "    q_test_images = []\n",
        "    print(\"\\nQuantum pre-processing of test images:\")\n",
        "    for idx, img in enumerate(test_images_P):\n",
        "        #print(\"{}/{}        \".format(idx + 1, 624), end=\"\\r\")\n",
        "        q_test_images.append(quanv(img))\n",
        "\n",
        "    q_test_imagesZ = np.asarray(q_test_images)\n",
        "print(\"Total time\",time.time()-start)"
      ],
      "execution_count": null,
      "outputs": []
    },
    {
      "cell_type": "code",
      "metadata": {
        "id": "Xa1_cK4KHcdX"
      },
      "source": [
        "#np.save(SAVE_PATH + \"Q_P_Train.npy\", q_train_imagesZZ_P)\n"
      ],
      "execution_count": null,
      "outputs": []
    },
    {
      "cell_type": "code",
      "metadata": {
        "id": "yWs9eIqjgrW5"
      },
      "source": [
        "\n",
        "#np.save(SAVE_PATH + \"Q_P_Test.npy\", q_test_imagesZZ_P)"
      ],
      "execution_count": null,
      "outputs": []
    },
    {
      "cell_type": "markdown",
      "metadata": {
        "id": "fi_ySCocKU7J"
      },
      "source": [
        "#Images after Encoding"
      ]
    },
    {
      "cell_type": "code",
      "metadata": {
        "id": "btZ1OcVp8uKx"
      },
      "source": [
        "#Show images after quantum pre-processing\n",
        "#PNEUMONIA Images\n",
        "n_samples = 3\n",
        "n_channels =4\n",
        "plt.rcParams.update({'font.size': 15})\n",
        "#plt.axis('off')\n",
        "fig, axes = plt.subplots(1 + n_channels, n_samples, figsize=(12,12))\n",
        "for k in range(n_samples):\n",
        "    axes[0, 0].set_ylabel(\"Pn\")\n",
        "    if k != 0:\n",
        "        axes[0, k].yaxis.set_visible(True)\n",
        "    axes[0, k].imshow(AA_test_imgs[k, :, :, 0], cmap=\"gray\")\n",
        "\n",
        "    # Plot all output channels\n",
        "    for c in range(n_channels):\n",
        "        axes[c + 1, 0].set_ylabel(\"channel_{}\".format(c+1))\n",
        "        if k != 0:\n",
        "            axes[c, k].yaxis.set_visible(True)\n",
        "        axes[c + 1, k].imshow(q_test_imagesZX[k, :, :, c], cmap=\"RdGy\")\n",
        "\n",
        "plt.tight_layout()\n",
        "plt.show()"
      ],
      "execution_count": null,
      "outputs": []
    },
    {
      "cell_type": "code",
      "metadata": {
        "id": "Ti7IwPbHWy8M"
      },
      "source": [
        "#Show images after quantum pre-processing\n",
        "#COVID-19 Images\n",
        "n_samples = 3\n",
        "n_channels =4\n",
        "plt.rcParams.update({'font.size': 15})\n",
        "#plt.axis('off')\n",
        "fig, axes = plt.subplots(1 + n_channels, n_samples, figsize=(12,12))\n",
        "for k in range(n_samples):\n",
        "    axes[0, 0].set_ylabel(\"COVID-19\")\n",
        "    if k != 0:\n",
        "        axes[0, k].yaxis.set_visible(True)\n",
        "    axes[0, k].imshow(AA_test_imgs[k, :, :, 0], cmap=\"gray\")\n",
        "\n",
        "    # Plot all output channels\n",
        "    for c in range(n_channels):\n",
        "        axes[c + 1, 0].set_ylabel(\"channel_{}\".format(c+1))\n",
        "        if k != 0:\n",
        "            axes[c, k].yaxis.set_visible(True)\n",
        "        axes[c + 1, k].imshow(q_test_imagesZX[k, :, :, c], cmap=\"RdGy\")\n",
        "\n",
        "plt.tight_layout()\n",
        "plt.show()"
      ],
      "execution_count": null,
      "outputs": []
    },
    {
      "cell_type": "code",
      "metadata": {
        "id": "Dmd_s6b2EomL"
      },
      "source": [
        "#Show images after quantum pre-processing\n",
        "#Normal Images\n",
        "n_samples = 3\n",
        "n_channels =4\n",
        "plt.rcParams.update({'font.size': 15})\n",
        "#plt.axis('off')\n",
        "fig, axes = plt.subplots(1 + n_channels, n_samples, figsize=(12,12))\n",
        "for k in range(n_samples):\n",
        "    axes[0, 0].set_ylabel(\" Normal\")\n",
        "    if k != 0:\n",
        "        axes[0, k].yaxis.set_visible(True)\n",
        "    axes[0, k].imshow(AA_test_imgs[k, :, :, 0], cmap=\"gray\")\n",
        "\n",
        "    # Plot all output channels\n",
        "    for c in range(n_channels):\n",
        "        axes[c+1 , 0].set_ylabel(\"channel_{}\".format(c+1))\n",
        "        if k != 0:\n",
        "            axes[c, k].yaxis.set_visible(True)\n",
        "        axes[c + 1, k].imshow(q_test_imagesZX[k, :, :, c], cmap=\"RdGy\")\n",
        "\n",
        "plt.tight_layout()\n",
        "plt.show()"
      ],
      "execution_count": null,
      "outputs": []
    },
    {
      "cell_type": "code",
      "metadata": {
        "id": "Rz6IeQStNMus"
      },
      "source": [
        "#from keras import backend as K  \n",
        "#K.set_image_dim_ordering('tf')\n"
      ],
      "execution_count": null,
      "outputs": []
    },
    {
      "cell_type": "markdown",
      "metadata": {
        "id": "upPtV9dLKiGt"
      },
      "source": [
        "#Create Quantum and Classical Models"
      ]
    },
    {
      "cell_type": "code",
      "metadata": {
        "id": "ytu3BaxkGHmQ"
      },
      "source": [
        "#create quantum model layers\n",
        "def Quantum_Model():\n",
        "    model = keras.models.Sequential([\n",
        "       #keras.ZeroPadding2D(1,1),\n",
        "       keras.layers.Conv2D(16, (2, 2), padding=\"same\",activation='relu'),\n",
        "       keras.layers.MaxPooling2D((2,2), strides=(2,2),padding=\"same\"),   \n",
        "       keras.layers.Dropout(0.2),                       \n",
        "       keras.layers.Conv2D(16, (2, 2), padding=\"same\", activation='relu'),\n",
        "       keras.layers.Conv2D(32, (2, 2),padding=\"same\", activation='relu'),\n",
        "       keras.layers.MaxPooling2D((2,2), strides=(2,2)),\n",
        "       keras.layers.Dropout(0.2),      \n",
        "       keras.layers.Flatten(),\n",
        "       #keras.layers.Dropout(0.4),\n",
        "       keras.layers.Dense(300,activation = 'relu'),\n",
        "       keras.layers.Dropout(0.5),\n",
        "       #keras.layers.Dense(512,activation = 'relu'),\n",
        "       #keras.layers.Dropout(0.4),\n",
        "       keras.layers.Dense(100,activation = 'relu'),\n",
        "       keras.layers.Dropout(0.4),\n",
        "       #keras.layers.Dense(56,activation = 'relu'),\n",
        "      #keras.layers.Dropout(0.02),\n",
        "       keras.layers.Dense(2, activation=\"softmax\")\n",
        "       #for multi-class\n",
        "       #keras.layers.Dense(3, activation=\"softmax\")\n",
        "    ])\n",
        "\n",
        "    model.compile(\n",
        "        optimizer=keras.optimizers.Adam(lr=0.0001),\n",
        "        loss=\"sparse_categorical_crossentropy\",\n",
        "        metrics=[\"accuracy\"],\n",
        "     )\n",
        "    \n",
        "    #model.compile(optimizer=RAdam(), loss='sparse_categorical_crossentropy', metrics=['accuracy'],)\n",
        "  \n",
        "    return model"
      ],
      "execution_count": null,
      "outputs": []
    },
    {
      "cell_type": "code",
      "metadata": {
        "id": "iSgKZcz_ZZNF"
      },
      "source": [
        " #create classical model layers\n",
        " def Classical_Model():\n",
        "    model = keras.models.Sequential([\n",
        "                                     \n",
        "       keras.layers.Conv2D(4, (2, 2),padding=\"same\", activation='relu'),\n",
        "       #keras.layers.MaxPooling2D((2,2), strides=(2,2,),padding=\"same\"),   \n",
        "       keras.layers.Conv2D(16, (2, 2), padding=\"same\",activation='relu'),\n",
        "       keras.layers.MaxPooling2D((2,2), strides=(2,2,),padding=\"same\"),   \n",
        "       keras.layers.Dropout(0.2),           \n",
        "       #keras.layers.MaxPooling2D((2,2), strides=(2,2),padding=\"same\"), \n",
        "       keras.layers.Conv2D(16, (2, 2), padding=\"same\", activation='relu'),\n",
        "       keras.layers.Conv2D(32, (2, 2),padding=\"same\", activation='relu'),\n",
        "       keras.layers.MaxPooling2D((2,2), strides=(2,2)),\n",
        "       keras.layers.Dropout(0.2),           \n",
        "       keras.layers.Flatten(),\n",
        "       keras.layers.Dense(300,activation = 'relu'),\n",
        "       keras.layers.Dropout(0.5),\n",
        "       keras.layers.Dense(100,activation = 'relu'),\n",
        "       keras.layers.Dropout(0.4),\n",
        "       #keras.layers.Dense(56,activation = 'relu'),\n",
        "       #keras.layers.Dropout(0.5),\n",
        "       keras.layers.Dense(2, activation=\"softmax\")\n",
        "       #for multi-class\n",
        "       #keras.layers.Dense(3, activation=\"softmax\")\n",
        "  \n",
        "    ])\n",
        "    model.compile(\n",
        "        optimizer=keras.optimizers.Adam(lr=0.0001),\n",
        "        loss=\"sparse_categorical_crossentropy\",\n",
        "        metrics=[\"accuracy\"],\n",
        "    )\n",
        "    #model.compile(optimizer=RAdam(), loss='binary_crossentropy', metrics=['accuracy'])\n",
        "\n",
        "    return model "
      ],
      "execution_count": null,
      "outputs": []
    },
    {
      "cell_type": "code",
      "metadata": {
        "id": "2mmlUjenNYCL"
      },
      "source": [
        " def MClassical_Model():\n",
        "  \n",
        "    model = keras.models.Sequential([\n",
        "                                     \n",
        "       keras.layers.Flatten(),\n",
        "       keras.layers.Dense(300,activation = 'relu'),\n",
        "       #keras.layers.Dropout(0.4),\n",
        "       keras.layers.Dense(100,activation = 'relu'),\n",
        "       #keras.layers.Dropout(0.5),\n",
        "       keras.layers.Dense(2, activation=\"softmax\")\n",
        "       #for multi-class\n",
        "       #keras.layers.Dense(3, activation=\"softmax\")  \n",
        "    ])\n",
        "\n",
        "    model.compile(\n",
        "        optimizer=keras.optimizers.Adam(lr=0.0001),\n",
        "        loss=\"sparse_categorical_crossentropy\",\n",
        "        metrics=[\"accuracy\"],\n",
        "    )\n"
      ],
      "execution_count": null,
      "outputs": []
    },
    {
      "cell_type": "markdown",
      "metadata": {
        "id": "uPUxccvO7n2m"
      },
      "source": [
        "# ML Algorithms"
      ]
    },
    {
      "cell_type": "code",
      "metadata": {
        "id": "st-WZ5KLWn7S"
      },
      "source": [
        "from keras.models import Model"
      ],
      "execution_count": null,
      "outputs": []
    },
    {
      "cell_type": "markdown",
      "metadata": {
        "id": "deOtgajFLp4g"
      },
      "source": [
        "## Feat Classical Model"
      ]
    },
    {
      "cell_type": "code",
      "metadata": {
        "id": "1LVuexv8Sjn0"
      },
      "source": [
        "#Feat classical model to use ML algorithms instead of softmax layer\n",
        "model_feat = Model(inputs=VVCmodel.input,outputs=VVCmodel.get_layer('dense_34').output)\n",
        "feat_train = model_feat.predict(train_images_P55)"
      ],
      "execution_count": null,
      "outputs": []
    },
    {
      "cell_type": "code",
      "metadata": {
        "id": "1urWvcXcS9n9"
      },
      "source": [
        "#SVM\n",
        "#Train\n",
        "from sklearn.svm import SVC\n",
        "svm = SVC(kernel='rbf',probability=True)\n",
        "#svm.fit(feat_train,np.argmax(y_train_PP,axis=1))\n",
        "svm.fit(feat_train,y_train)"
      ],
      "execution_count": null,
      "outputs": []
    },
    {
      "cell_type": "code",
      "metadata": {
        "id": "yHhmu3YbXjJj"
      },
      "source": [
        "#test\n",
        "feat_test = model_feat.predict(test_images_P)\n"
      ],
      "execution_count": null,
      "outputs": []
    },
    {
      "cell_type": "code",
      "metadata": {
        "id": "Jj7NEoINXqqy"
      },
      "source": [
        "svm.score(feat_test,y_test)\n"
      ],
      "execution_count": null,
      "outputs": []
    },
    {
      "cell_type": "code",
      "metadata": {
        "id": "yNPt__cLNbAO"
      },
      "source": [
        "from sklearn.svm import SVC\n",
        "svmPoly = SVC(kernel='poly',probability=True)\n",
        "svmPoly.fit(feat_train,y_train)"
      ],
      "execution_count": null,
      "outputs": []
    },
    {
      "cell_type": "code",
      "metadata": {
        "id": "jfQoV_BrNe3X"
      },
      "source": [
        "svmPoly.score(feat_test,y_test)\n"
      ],
      "execution_count": null,
      "outputs": []
    },
    {
      "cell_type": "code",
      "metadata": {
        "id": "5gQFLSJgNkEz"
      },
      "source": [
        "#from sklearn.neighbors import NearestNeighbors\n",
        "from sklearn.neighbors import KNeighborsClassifier\n",
        "neigh = KNeighborsClassifier(n_neighbors=3)\n",
        "neigh.fit(feat_train,y_train)\n"
      ],
      "execution_count": null,
      "outputs": []
    },
    {
      "cell_type": "code",
      "metadata": {
        "id": "4KqQ7N0ONpHq"
      },
      "source": [
        "neigh.score(feat_test,y_test)\n"
      ],
      "execution_count": null,
      "outputs": []
    },
    {
      "cell_type": "code",
      "metadata": {
        "id": "DUdp98Q94shV"
      },
      "source": [
        "from sklearn.ensemble import BaggingClassifier\n",
        "BC = BaggingClassifier(base_estimator=SVC(),\n",
        "                         n_estimators=3, random_state=0).fit(feat_train, y_train)"
      ],
      "execution_count": null,
      "outputs": []
    },
    {
      "cell_type": "code",
      "metadata": {
        "id": "C0eQgMe65DUL",
        "colab": {
          "base_uri": "https://localhost:8080/",
          "height": 34
        },
        "outputId": "607aa438-f2b5-4bd6-c1d3-2340c1ac372b"
      },
      "source": [
        "BC.score(feat_test,y_test)\n"
      ],
      "execution_count": null,
      "outputs": [
        {
          "output_type": "execute_result",
          "data": {
            "text/plain": [
              "0.89171974522293"
            ]
          },
          "metadata": {
            "tags": []
          },
          "execution_count": 189
        }
      ]
    },
    {
      "cell_type": "code",
      "metadata": {
        "id": "McGeKvak4VYl",
        "colab": {
          "base_uri": "https://localhost:8080/",
          "height": 52
        },
        "outputId": "3ccc543c-f270-43e3-ca3f-400622c725a7"
      },
      "source": [
        "from sklearn.ensemble import AdaBoostClassifier\n",
        "ABC=AdaBoostClassifier( n_estimators=50)\n",
        "ABC.fit(feat_train,y_train)\n"
      ],
      "execution_count": null,
      "outputs": [
        {
          "output_type": "execute_result",
          "data": {
            "text/plain": [
              "AdaBoostClassifier(algorithm='SAMME.R', base_estimator=None, learning_rate=1.0,\n",
              "                   n_estimators=50, random_state=None)"
            ]
          },
          "metadata": {
            "tags": []
          },
          "execution_count": 196
        }
      ]
    },
    {
      "cell_type": "code",
      "metadata": {
        "id": "CxW2jgtw_P6a"
      },
      "source": [
        "ABC.score(feat_test,y_test)\n"
      ],
      "execution_count": null,
      "outputs": []
    },
    {
      "cell_type": "code",
      "metadata": {
        "id": "NxbKaojrANHB"
      },
      "source": [
        "from sklearn.tree import DecisionTreeClassifier \n",
        "DT = DecisionTreeClassifier(max_depth=5) \n",
        "DT.fit(feat_train,y_train)"
      ],
      "execution_count": null,
      "outputs": []
    },
    {
      "cell_type": "code",
      "metadata": {
        "id": "ZmLyovsbAiHa"
      },
      "source": [
        "DT.score(feat_test,y_test)\n"
      ],
      "execution_count": null,
      "outputs": []
    },
    {
      "cell_type": "code",
      "metadata": {
        "id": "E9gL7uPWBscq"
      },
      "source": [
        "from sklearn.naive_bayes import GaussianNB \n",
        "gnb = GaussianNB() \n",
        "gnb.fit(feat_train,y_train)\n",
        "gnb.score(feat_test,y_test)\n"
      ],
      "execution_count": null,
      "outputs": []
    },
    {
      "cell_type": "code",
      "metadata": {
        "id": "N8wE2GEHDtNG"
      },
      "source": [
        "from sklearn.ensemble import RandomForestClassifier\n",
        "RF = RandomForestClassifier(n_estimators =5)\n",
        "RF.fit(feat_train,y_train)\n"
      ],
      "execution_count": null,
      "outputs": []
    },
    {
      "cell_type": "code",
      "metadata": {
        "id": "D5ZY-rdf5QF1"
      },
      "source": [
        "RF.score(feat_test,y_test)\n"
      ],
      "execution_count": null,
      "outputs": []
    },
    {
      "cell_type": "code",
      "metadata": {
        "id": "NUZcifW5TWCB"
      },
      "source": [
        "import xgboost as xgb\n",
        "xgbc = xgb.XGBClassifier(max_depth=1).fit(feat_train, y_train)\n",
        "#predictions = xgbc.predict(feat_test)\n"
      ],
      "execution_count": null,
      "outputs": []
    },
    {
      "cell_type": "code",
      "metadata": {
        "id": "bneIgjyLW2O2"
      },
      "source": [
        "xgbc.score(feat_test,y_test)\n"
      ],
      "execution_count": null,
      "outputs": []
    },
    {
      "cell_type": "markdown",
      "metadata": {
        "id": "h6QEGddTONh9"
      },
      "source": [
        "#Train and Test"
      ]
    },
    {
      "cell_type": "code",
      "metadata": {
        "id": "rWwlNCgKdWXK"
      },
      "source": [
        "\n",
        "start=time.time()\n",
        "VCmodel=Classical_Model()\n",
        "VC_history = VCmodel.fit(\n",
        "    train_images_P55,\n",
        "    y_train,\n",
        "    validation_data=(test_images_P, y_test),\n",
        "    batch_size=32,\n",
        "    epochs=100,\n",
        "    verbose=2)\n",
        "print(\"Time=\",time.time()-start)"
      ],
      "execution_count": null,
      "outputs": []
    },
    {
      "cell_type": "code",
      "metadata": {
        "id": "XKtlML8dUroG"
      },
      "source": [
        "q_model = Quantum_Model()\n",
        "start=time.time()\n",
        "q_history = q_model.fit(\n",
        "    q_train_imagesZZ_P,\n",
        "    y_train,\n",
        "    validation_data=(q_test_imagesZ, y_test),\n",
        "    batch_size=32,\n",
        "    epochs=100,  \n",
        "   verbose=2,\n",
        ")\n",
        "print(\"Time=\",time.time()-start)"
      ],
      "execution_count": null,
      "outputs": []
    },
    {
      "cell_type": "code",
      "metadata": {
        "id": "m-WCpSimhOCB"
      },
      "source": [
        "q_modelx2 = Quantum_Model()\n",
        "start=time.time()\n",
        "q_historyx2 = q_modelx2.fit(\n",
        "    q_train_imagesZX2,\n",
        "    y_train,\n",
        "    validation_data=(q_test_imagesZX2, y_test),\n",
        "    batch_size=32,\n",
        "    epochs=100,  \n",
        "   verbose=2,\n",
        ")\n",
        "print(\"Time=\",time.time()-start)"
      ],
      "execution_count": null,
      "outputs": []
    },
    {
      "cell_type": "code",
      "metadata": {
        "id": "PApDoXA87siT"
      },
      "source": [
        "# RX gates\n",
        "q_modelx = Quantum_Model()\n",
        "start=time.time()\n",
        "q_historyx = q_modelx.fit(\n",
        "    q_train_imagesZX,\n",
        "    y_train,\n",
        "    validation_data=(q_test_imagesZX, y_test),\n",
        "    batch_size=32,\n",
        "    epochs=20,  \n",
        "   verbose=2,\n",
        ")\n",
        "print(\"Time=\",time.time()-start)"
      ],
      "execution_count": null,
      "outputs": []
    },
    {
      "cell_type": "code",
      "metadata": {
        "id": "-6m0Kfo_q6eB"
      },
      "source": [
        "#q_train_imagesZZ_P.shape"
      ],
      "execution_count": null,
      "outputs": []
    },
    {
      "cell_type": "code",
      "metadata": {
        "id": "QvVVKYEEs8C5"
      },
      "source": [
        "# RY gate \n",
        "q_model = Quantum_Model()\n",
        "start=time.time()\n",
        "q_history = q_model.fit(\n",
        "    q_train_imagesZZ_P,\n",
        "    y_train,\n",
        "    validation_data=(q_test_imagesZ, y_test),\n",
        "    batch_size=32,\n",
        "    epochs=20,  \n",
        "   verbose=2,\n",
        ")\n",
        "print(\"Time=\",time.time()-start)"
      ],
      "execution_count": null,
      "outputs": []
    },
    {
      "cell_type": "code",
      "metadata": {
        "id": "pfEER2R7hdJI"
      },
      "source": [
        "q_model2 = Quantum_Model()\n",
        "start=time.time()\n",
        "q_history2 = q_model2.fit(\n",
        "    q_train_imagesZZ_P2,\n",
        "    y_train,\n",
        "    validation_data=(q_test_imagesZ2, y_test),\n",
        "    batch_size=32,\n",
        "    epochs=20,  \n",
        "   verbose=2,\n",
        ")\n",
        "print(\"Time=\",time.time()-start)"
      ],
      "execution_count": null,
      "outputs": []
    },
    {
      "cell_type": "code",
      "metadata": {
        "id": "BSUYoGOdMFTL"
      },
      "source": [
        "mlp=MClassical_Model()\n",
        "mlp_history = mlp.fit(\n",
        "    train_images_P55,\n",
        "    y_train,\n",
        "    validation_data=(test_images_P, y_test),\n",
        "    batch_size=32,\n",
        "    epochs=100,\n",
        "    verbose=2)"
      ],
      "execution_count": null,
      "outputs": []
    },
    {
      "cell_type": "code",
      "metadata": {
        "id": "TRVSi3KQP4Z6"
      },
      "source": [
        "q_model.summary()"
      ],
      "execution_count": null,
      "outputs": []
    },
    {
      "cell_type": "code",
      "metadata": {
        "id": "0qso0wFnP8cN"
      },
      "source": [
        "q_modelx2.summary()"
      ],
      "execution_count": null,
      "outputs": []
    },
    {
      "cell_type": "code",
      "metadata": {
        "id": "gspcCYz2PeRq"
      },
      "source": [
        "VCmodel.summary()"
      ],
      "execution_count": null,
      "outputs": []
    },
    {
      "cell_type": "code",
      "metadata": {
        "id": "X0W1sdNpRPgx"
      },
      "source": [
        "from keras.utils.vis_utils import plot_model\n",
        "plot_model(q_modelx2, to_file='model_plot.png', show_shapes=True, show_layer_names=True)"
      ],
      "execution_count": null,
      "outputs": []
    },
    {
      "cell_type": "code",
      "metadata": {
        "id": "qy10kkq5LOyN"
      },
      "source": [
        "plot_model(VCmodel, to_file='model_plot.png', show_shapes=True, show_layer_names=True)\n"
      ],
      "execution_count": null,
      "outputs": []
    },
    {
      "cell_type": "markdown",
      "metadata": {
        "id": "7ce5ipiuDx5n"
      },
      "source": [
        "Accuary and Loss RY and RX gates"
      ]
    },
    {
      "cell_type": "code",
      "metadata": {
        "id": "3vQiA2IEQ81X"
      },
      "source": [
        "epochs=20\n",
        "#acc=q_history.history['accuracy']  \n",
        "epochs_=range(0,epochs)    \n",
        "plt.plot(epochs_,q_history.history[\"val_accuracy\"],'b' , label=\" Test Accuarcy + HQCNN+RY+500 shots \")\n",
        "plt.plot(epochs_,q_history2.history[\"val_accuracy\"],'r',  label=\" Test Accuarcy + HQCNN+RY+1000 shots \")\n",
        "plt.plot(epochs_,q_historyx.history[\"val_accuracy\"], 'g', label=\" Test Accuarcy + HQCNN+RX+500 shots \")\n",
        "plt.plot(epochs_,q_historyx2.history[\"val_accuracy\"], 'c', label=\" Test Accuarcy + HQCNN+RX+1000 shots\")\n",
        "plt.ylabel(\"Accuracy\")\n",
        "#plt.ylim([60,100])\n",
        "plt.xlim([0,20])\n",
        "\n",
        "plt.xlabel(\"Epoch\")\n",
        "plt.legend(loc=\"best\")\n"
      ],
      "execution_count": null,
      "outputs": []
    },
    {
      "cell_type": "code",
      "metadata": {
        "id": "qD1kU_4ZINw4"
      },
      "source": [
        "import pandas as pd \n",
        "import numpy as np\n",
        "train_imgs_cls=list(train_imgs)"
      ],
      "execution_count": null,
      "outputs": []
    },
    {
      "cell_type": "code",
      "metadata": {
        "id": "kNagUiLf90Sd"
      },
      "source": [
        "epochs=20\n",
        "acc=c_history.history['accuracy']  ##getting  accuracy of each epochs\n",
        "epochs_=range(0,epochs)    \n",
        "plt.plot(epochs_,acc,label='training accuracy')\n",
        "plt.xlabel('No of Epochs')\n",
        "plt.ylabel('Accuracy')\n",
        "\n",
        "acc_val=c_history.history['val_accuracy']  ##getting validation accuracy of each epochs\n",
        "plt.plot(epochs_,acc_val,label=\"validation accuracy\")\n",
        "plt.title(\"No of Epochs vs Accuracy\")\n",
        "plt.legend()"
      ],
      "execution_count": null,
      "outputs": []
    },
    {
      "cell_type": "code",
      "metadata": {
        "id": "pgYJuMHtgBVc"
      },
      "source": [
        "predc = q_model.predict(q_test_imagesZ)"
      ],
      "execution_count": null,
      "outputs": []
    },
    {
      "cell_type": "code",
      "metadata": {
        "id": "eQEpT4F3Psln"
      },
      "source": [
        "y = np.argmax(y_test, axis=1)"
      ],
      "execution_count": null,
      "outputs": []
    },
    {
      "cell_type": "code",
      "metadata": {
        "id": "lV1GpHZgiaQK"
      },
      "source": [
        "preds = np.argmax(predc, axis=1)\n",
        "cm = confusion_matrix(y_test, preds)\n",
        "print(cm)"
      ],
      "execution_count": null,
      "outputs": []
    },
    {
      "cell_type": "code",
      "metadata": {
        "id": "7A7NAjmhPnbd"
      },
      "source": [
        "preds"
      ],
      "execution_count": null,
      "outputs": []
    },
    {
      "cell_type": "code",
      "metadata": {
        "id": "FR0sWHgctYAc"
      },
      "source": [
        "import pandas as pd\n",
        "x_test=pd.DataFrame(x_test)"
      ],
      "execution_count": null,
      "outputs": []
    },
    {
      "cell_type": "code",
      "metadata": {
        "id": "HICbftTUDZ4L"
      },
      "source": [
        "predCls = q_modelx.predict(q_test_imagesZX)\n",
        "#converting Probabilities to labels\n",
        "predCls = np.argmax(predCls, axis=1)\n",
        "#label\n",
        "from sklearn.metrics import classification_report, confusion_matrix, accuracy_score#Accuracy Score\n",
        "print ('Accuracy Score : ', accuracy_score(y_test,predCls,), '\\n')\n",
        "\n",
        "#precision, recall report\n",
        "print ('Classification Report :\\n\\n' ,classification_report(y_test, predCls))"
      ],
      "execution_count": null,
      "outputs": []
    },
    {
      "cell_type": "code",
      "metadata": {
        "id": "Y6a-0DAZ8ZF5"
      },
      "source": [
        "predCls2 = q_modelx2.predict(q_test_imagesZX2)\n",
        "#pred\n",
        "#converting Probabilities to labels\n",
        "predCls2 = np.argmax(predCls2, axis=1)\n",
        "#label\n",
        "from sklearn.metrics import classification_report, confusion_matrix, accuracy_score#Accuracy Score\n",
        "print ('Accuracy Score : ', accuracy_score(y_test,predCls2,), '\\n')\n",
        "\n",
        "#precision, recall report\n",
        "print ('Classification Report :\\n\\n' ,classification_report(y_test, predCls2))"
      ],
      "execution_count": null,
      "outputs": []
    },
    {
      "cell_type": "code",
      "metadata": {
        "id": "WIZeMN2j8Y3C"
      },
      "source": [
        "#prediction on test set\n",
        "pred2 = q_model2.predict(q_test_imagesZ2)\n",
        "#converting Probabilities to labels\n",
        "label2 = np.argmax(pred2, axis=1)\n",
        "#label\n",
        "from sklearn.metrics import classification_report, confusion_matrix, accuracy_score#Accuracy Score\n",
        "print ('Accuracy Score : ', accuracy_score(y_test,label2), '\\n')\n",
        "\n",
        "#precision, recall report\n",
        "print ('Classification Report :\\n\\n' ,classification_report(label2, y_test))"
      ],
      "execution_count": null,
      "outputs": []
    },
    {
      "cell_type": "code",
      "metadata": {
        "id": "vsgWcZArVxyY"
      },
      "source": [
        "#prediction on test set\n",
        "pred = q_model.predict(q_test_imagesZ)\n",
        "#converting Probabilities to labels\n",
        "label = np.argmax(pred, axis=1)\n",
        "#label\n",
        "from sklearn.metrics import classification_report, confusion_matrix, accuracy_score#Accuracy Score\n",
        "print ('Accuracy Score : ', accuracy_score(label,y_test), '\\n')\n",
        "\n",
        "#precision, recall report\n",
        "print ('Classification Report :\\n\\n' ,classification_report(label, y_test))"
      ],
      "execution_count": null,
      "outputs": []
    },
    {
      "cell_type": "markdown",
      "metadata": {
        "id": "2O0LotzNE6g2"
      },
      "source": [
        "# Confusion *Matrcies*"
      ]
    },
    {
      "cell_type": "code",
      "metadata": {
        "id": "3G9alXfpst5M"
      },
      "source": [
        "CMQ2=metrics.confusion_matrix(y_test,label2)\n",
        "CMQ2"
      ],
      "execution_count": null,
      "outputs": []
    },
    {
      "cell_type": "code",
      "metadata": {
        "id": "2qg7njUpO4hm"
      },
      "source": [
        "import sklearn.metrics as metrics\n",
        "\n",
        "CMQ=metrics.confusion_matrix(y_test,label)\n",
        "CMQ"
      ],
      "execution_count": null,
      "outputs": []
    },
    {
      "cell_type": "markdown",
      "metadata": {
        "id": "Vgw7ABCdH5BE"
      },
      "source": [
        "## RX and RX  with 500 and 1000 shots"
      ]
    },
    {
      "cell_type": "code",
      "metadata": {
        "id": "kNi9rq8vhRsu"
      },
      "source": [
        "import seaborn as sns\n",
        "sns.set(font_scale=1.1)\n",
        "#cmap=plt.cm.RdGy_r\n",
        "#fig, ax = plt.subplots(figsize=(10,10))\n",
        "sns.heatmap(CMQ2, annot=True,fmt=\"g\")\n",
        "ax= plt.subplot()\n",
        "plt.title(\"CM_HQCNN+RY+1000 shots\")\n",
        "#plt.tight_layout()\n",
        "plt.ylabel(' True Label')\n",
        "plt.xlabel(' Predicted Label ')\n",
        "ax.xaxis.set_ticklabels(['Normal', 'COVID-19']); ax.yaxis.set_ticklabels(['Normal', 'COVID-19']);\n",
        "#ax.xaxis.set_ticklabels(['COVID-19', 'Pneumonia']); ax.yaxis.set_ticklabels(['COVID-19', 'Pneumonia']);\n",
        "#ax.xaxis.set_ticklabels(['Normal','COVID-19', 'Pneumonia']);\n",
        "#ax.yaxis.set_ticklabels(['Normal','COVID-19', 'Pneumonia']);\n",
        "plt.show()"
      ],
      "execution_count": null,
      "outputs": []
    },
    {
      "cell_type": "code",
      "metadata": {
        "id": "hDFJ2iXZnro3"
      },
      "source": [
        "import seaborn as sns\n",
        "sns.set(font_scale=1.1)\n",
        "#cmap=plt.cm.RdGy_r\n",
        "#fig, ax = plt.subplots(figsize=(10,10))\n",
        "sns.heatmap(CMQ, annot=True,fmt=\"g\")\n",
        "ax= plt.subplot()\n",
        "plt.title(\"CM_HQCNN+RY+500 shots\")\n",
        "#plt.tight_layout()\n",
        "plt.ylabel(' True Label')\n",
        "plt.xlabel(' Predicted Label ')\n",
        "ax.xaxis.set_ticklabels(['Normal', 'COVID-19']); ax.yaxis.set_ticklabels(['Normal', 'COVID-19']);\n",
        "#ax.xaxis.set_ticklabels(['COVID-19', 'Pneumonia']); ax.yaxis.set_ticklabels(['COVID-19', 'Pneumonia']);\n",
        "#ax.xaxis.set_ticklabels(['Normal','COVID-19', 'Pneumonia']);\n",
        "#ax.yaxis.set_ticklabels(['Normal','COVID-19', 'Pneumonia']);\n",
        "\n",
        "plt.show()\n",
        "\n"
      ],
      "execution_count": null,
      "outputs": []
    },
    {
      "cell_type": "code",
      "metadata": {
        "id": "CfTyfYXuy5Ni"
      },
      "source": [
        "CMCnn=metrics.confusion_matrix(y_test,predCls)\n",
        "CMCnn"
      ],
      "execution_count": null,
      "outputs": []
    },
    {
      "cell_type": "code",
      "metadata": {
        "id": "PeYcUB6I9-ON"
      },
      "source": [
        "CMCnn2=metrics.confusion_matrix(y_test,predCls2)\n",
        "CMCnn2"
      ],
      "execution_count": null,
      "outputs": []
    },
    {
      "cell_type": "code",
      "metadata": {
        "id": "i13_eP-4-Dv8"
      },
      "source": [
        "import seaborn as sns\n",
        "sns.set(font_scale=1.1)\n",
        "#cmap=plt.cm.RdGy_r\n",
        "sns.heatmap(CMCnn2, annot=True,fmt=\"g\")\n",
        "ax= plt.subplot()\n",
        "plt.title(\"CM_HQCNN+RX+1000 shots\")\n",
        "#plt.tight_layout()\n",
        "plt.ylabel(' True Label')\n",
        "plt.xlabel(' Predicted Label ')\n",
        "ax.xaxis.set_ticklabels(['Normal', 'COVID-19']); ax.yaxis.set_ticklabels(['Normal', 'COVID-19']);\n",
        "#ax.xaxis.set_ticklabels(['COVID-19', 'Pneumonia']); ax.yaxis.set_ticklabels(['COVID-19', 'Pneumonia']);\n",
        "#ax.xaxis.set_ticklabels(['Normal','COVID-19', 'Pneumonia']);\n",
        "#ax.yaxis.set_ticklabels(['Normal','COVID-19', 'Pneumonia']);\n",
        "#s = [['TN','FP'], ['FN', 'TP']]\n",
        "#for i in range(2):\n",
        "    #for j in range(2):\n",
        "        #plt.text(j,i, str(s[i][j])+\" = \"+str(confusion_matrix[i][j]))\n",
        "plt.show()"
      ],
      "execution_count": null,
      "outputs": []
    },
    {
      "cell_type": "markdown",
      "metadata": {
        "id": "6scpFWdUIiiZ"
      },
      "source": [
        "## HQCNN and CNN model"
      ]
    },
    {
      "cell_type": "code",
      "metadata": {
        "id": "x8FKJejfy6D2"
      },
      "source": [
        "import seaborn as sns\n",
        "sns.set(font_scale=1.1)\n",
        "#cmap=plt.cm.RdGy_r\n",
        "sns.heatmap(CMQ, annot=True,fmt=\"g\")\n",
        "ax= plt.subplot()\n",
        "plt.title(\"CM_HQCNN+RX+500 shots\")\n",
        "#plt.tight_layout()\n",
        "plt.ylabel(' True Label')\n",
        "plt.xlabel(' Predicted Label ')\n",
        "ax.xaxis.set_ticklabels(['Normal', 'COVID-19']); ax.yaxis.set_ticklabels(['Normal', 'COVID-19']);\n",
        "#ax.xaxis.set_ticklabels(['COVID-19', 'Pneumonia']); ax.yaxis.set_ticklabels(['COVID-19', 'Pneumonia']);\n",
        "#ax.xaxis.set_ticklabels(['Normal','COVID-19', 'Pneumonia']);\n",
        "#ax.yaxis.set_ticklabels(['Normal','COVID-19', 'Pneumonia']);\n",
        "#s = [['TN','FP'], ['FN', 'TP']]\n",
        "plt.show()\n",
        "\n"
      ],
      "execution_count": null,
      "outputs": []
    },
    {
      "cell_type": "code",
      "metadata": {
        "id": "XwKlgVFmIR_E"
      },
      "source": [
        "import seaborn as sns\n",
        "sns.set(font_scale=1.1)\n",
        "#cmap=plt.cm.RdGy_r\n",
        "sns.heatmap(CMCnn, annot=True,fmt=\"g\")\n",
        "ax= plt.subplot()\n",
        "plt.title(\"CM_HQCNN\")\n",
        "#plt.tight_layout()\n",
        "plt.ylabel(' True Label')\n",
        "plt.xlabel(' Predicted Label ')\n",
        "ax.xaxis.set_ticklabels(['Normal', 'COVID-19']); ax.yaxis.set_ticklabels(['Normal', 'COVID-19']);\n",
        "#ax.xaxis.set_ticklabels(['COVID-19', 'Pneumonia']); ax.yaxis.set_ticklabels(['COVID-19', 'Pneumonia']);\n",
        "#ax.xaxis.set_ticklabels(['Normal','COVID-19', 'Pneumonia']);\n",
        "#ax.yaxis.set_ticklabels(['Normal','COVID-19', 'Pneumonia']);\n",
        "#s = [['TN','FP'], ['FN', 'TP']]\n",
        "plt.show()"
      ],
      "execution_count": null,
      "outputs": []
    },
    {
      "cell_type": "code",
      "metadata": {
        "id": "5FJTn-hdIWcV"
      },
      "source": [
        "import seaborn as sns\n",
        "sns.set(font_scale=1.1)\n",
        "#cmap=plt.cm.RdGy_r\n",
        "sns.heatmap(CMCnn, annot=True,fmt=\"g\")\n",
        "ax= plt.subplot()\n",
        "plt.title(\"CM_CNN\")\n",
        "#plt.tight_layout()\n",
        "plt.ylabel(' True Label')\n",
        "plt.xlabel(' Predicted Label ')\n",
        "ax.xaxis.set_ticklabels(['Normal', 'COVID-19']); ax.yaxis.set_ticklabels(['Normal', 'COVID-19']);\n",
        "#ax.xaxis.set_ticklabels(['COVID-19', 'Pneumonia']); ax.yaxis.set_ticklabels(['COVID-19', 'Pneumonia']);\n",
        "#ax.xaxis.set_ticklabels(['Normal','COVID-19', 'Pneumonia']);\n",
        "#ax.yaxis.set_ticklabels(['Normal','COVID-19', 'Pneumonia']);\n",
        "#s = [['TN','FP'], ['FN', 'TP']]\n",
        "plt.show()"
      ],
      "execution_count": null,
      "outputs": []
    },
    {
      "cell_type": "markdown",
      "metadata": {
        "id": "MyX7VqauI0kL"
      },
      "source": [
        "## Other ML Algorithms for comparsion"
      ]
    },
    {
      "cell_type": "markdown",
      "metadata": {
        "id": "zC3tiGeLIrtP"
      },
      "source": [
        ""
      ]
    },
    {
      "cell_type": "code",
      "metadata": {
        "id": "izxZhxwgtBnh"
      },
      "source": [
        "pred_mlp = mlp.predict(test_images_P)\n",
        "#pred\n",
        "\n",
        "#converting Probabilities to labels\n",
        "pred_mlp = np.argmax(pred_mlp, axis=1)\n",
        "CMMLP=metrics.confusion_matrix(y_test,pred_mlp)\n",
        "CMMLP"
      ],
      "execution_count": null,
      "outputs": []
    },
    {
      "cell_type": "code",
      "metadata": {
        "id": "_MuOSUWctZog"
      },
      "source": [
        "import seaborn as sns\n",
        "sns.set(font_scale=1.1)\n",
        "#cmap=plt.cm.RdGy_r\n",
        "sns.heatmap(CMMLP, annot=True,fmt=\"g\")\n",
        "ax= plt.subplot()\n",
        "plt.title(\"CM_MLP\")\n",
        "#plt.tight_layout()\n",
        "plt.ylabel(' True Label')\n",
        "plt.xlabel(' Predicted Label ')\n",
        "ax.xaxis.set_ticklabels(['Normal', 'COVID-19']); ax.yaxis.set_ticklabels(['Normal', 'COVID-19']);\n",
        "#ax.xaxis.set_ticklabels(['COVID-19', 'Pneumonia']); ax.yaxis.set_ticklabels(['COVID-19', 'Pneumonia']);\n",
        "#ax.xaxis.set_ticklabels(['Normal','COVID-19', 'Pneumonia']);\n",
        "#ax.yaxis.set_ticklabels(['Normal','COVID-19', 'Pneumonia']);\n",
        "plt.show()"
      ],
      "execution_count": null,
      "outputs": []
    },
    {
      "cell_type": "code",
      "metadata": {
        "id": "gp05UThq5RP3"
      },
      "source": [
        "predsvm = svm.predict(feat_test)\n",
        "\n",
        "CMSVM=metrics.confusion_matrix(y_test,predsvm)\n",
        "CMSVM"
      ],
      "execution_count": null,
      "outputs": []
    },
    {
      "cell_type": "code",
      "metadata": {
        "id": "jhAhyZC68PWt"
      },
      "source": [
        "import seaborn as sns\n",
        "sns.set(font_scale=1.1)\n",
        "#cmap=plt.cm.RdGy_r\n",
        "sns.heatmap(CMSVM, annot=True,fmt=\"g\")\n",
        "ax= plt.subplot()\n",
        "plt.title(\"CM_CNN+SVM (RBF)\")\n",
        "#plt.tight_layout()\n",
        "plt.ylabel(' True Label')\n",
        "plt.xlabel(' Predicted Label ')\n",
        "ax.xaxis.set_ticklabels(['Normal', 'COVID-19']); ax.yaxis.set_ticklabels(['Normal', 'COVID-19']);\n",
        "#ax.xaxis.set_ticklabels(['COVID-19', 'Pneumonia']); ax.yaxis.set_ticklabels(['COVID-19', 'Pneumonia']);\n",
        "#ax.xaxis.set_ticklabels(['Normal','COVID-19', 'Pneumonia']);\n",
        "#ax.yaxis.set_ticklabels(['Normal','COVID-19', 'Pneumonia']);\n",
        "plt.show()\n"
      ],
      "execution_count": null,
      "outputs": []
    },
    {
      "cell_type": "code",
      "metadata": {
        "id": "CsBZgtwO8qgs"
      },
      "source": [
        "predsvmP = svmPoly.predict(feat_test)\n",
        "\n",
        "CMSVM_P=metrics.confusion_matrix(y_test,predsvmP)\n",
        "CMSVM_P"
      ],
      "execution_count": null,
      "outputs": []
    },
    {
      "cell_type": "code",
      "metadata": {
        "id": "nl8qgdaT84qS"
      },
      "source": [
        "import seaborn as sns\n",
        "sns.set(font_scale=1.1)\n",
        "#cmap=plt.cm.RdGy_r\n",
        "sns.heatmap(CMSVM_P, annot=True,fmt=\"g\")\n",
        "ax= plt.subplot()\n",
        "plt.title(\"CM_CNN+SVM (Poly)\")\n",
        "#plt.tight_layout()\n",
        "plt.ylabel(' True Label')\n",
        "plt.xlabel(' Predicted Label ')\n",
        "ax.xaxis.set_ticklabels(['Normal', 'COVID-19']); ax.yaxis.set_ticklabels(['Normal', 'COVID-19']);\n",
        "#ax.xaxis.set_ticklabels(['COVID-19', 'Pneumonia']); ax.yaxis.set_ticklabels(['COVID-19', 'Pneumonia']);\n",
        "#ax.xaxis.set_ticklabels(['Normal','COVID-19', 'Pneumonia']);\n",
        "#ax.yaxis.set_ticklabels(['Normal','COVID-19', 'Pneumonia']);\n",
        "plt.show()\n"
      ],
      "execution_count": null,
      "outputs": []
    },
    {
      "cell_type": "code",
      "metadata": {
        "id": "7Y-57-7b89v_"
      },
      "source": [
        "predKNN = neigh.predict(feat_test)\n",
        "CMKNN=metrics.confusion_matrix(y_test,predKNN)\n",
        "CMKNN"
      ],
      "execution_count": null,
      "outputs": []
    },
    {
      "cell_type": "code",
      "metadata": {
        "id": "tF-h6h-C9XBS"
      },
      "source": [
        "import seaborn as sns\n",
        "sns.set(font_scale=1.1)\n",
        "#cmap=plt.cm.RdGy_r\n",
        "sns.heatmap(CMKNN, annot=True,fmt=\"g\")\n",
        "ax= plt.subplot()\n",
        "plt.title(\"CM_CNN+KNN\")\n",
        "#plt.tight_layout()\n",
        "plt.ylabel(' True Label')\n",
        "plt.xlabel(' Predicted Label ')\n",
        "ax.xaxis.set_ticklabels(['Normal', 'COVID-19']); ax.yaxis.set_ticklabels(['Normal', 'COVID-19']);\n",
        "#ax.xaxis.set_ticklabels(['COVID-19', 'Pneumonia']); ax.yaxis.set_ticklabels(['COVID-19', 'Pneumonia']);\n",
        "#ax.xaxis.set_ticklabels(['Normal','COVID-19', 'Pneumonia']);\n",
        "#ax.yaxis.set_ticklabels(['Normal','COVID-19', 'Pneumonia']);\n",
        "plt.show()"
      ],
      "execution_count": null,
      "outputs": []
    },
    {
      "cell_type": "code",
      "metadata": {
        "id": "k9AgwbdEz-N3"
      },
      "source": [
        "predABC = ABC.predict(feat_test)\n",
        "CMABC=metrics.confusion_matrix(y_test,predABC)\n",
        "CMABC"
      ],
      "execution_count": null,
      "outputs": []
    },
    {
      "cell_type": "code",
      "metadata": {
        "id": "rdhdDNvj8G-K"
      },
      "source": [
        "import seaborn as sns\n",
        "sns.set(font_scale=1.1)\n",
        "#cmap=plt.cm.RdGy_r\n",
        "sns.heatmap(CMABC, annot=True,fmt='g')\n",
        "ax= plt.subplot()\n",
        "plt.title(\"CM_CNN+AdaBoost\")\n",
        "#plt.tight_layout()\n",
        "plt.ylabel(' True Label')\n",
        "plt.xlabel(' Predicted Label ')\n",
        "ax.xaxis.set_ticklabels(['Normal', 'COVID-19']); ax.yaxis.set_ticklabels(['Normal', 'COVID-19']);\n",
        "#ax.xaxis.set_ticklabels(['COVID-19', 'Pneumonia']); ax.yaxis.set_ticklabels(['COVID-19', 'Pneumonia']);\n",
        "#ax.xaxis.set_ticklabels(['Normal','COVID-19', 'Pneumonia']);\n",
        "#ax.yaxis.set_ticklabels(['Normal','COVID-19', 'Pneumonia']);\n",
        "plt.show()"
      ],
      "execution_count": null,
      "outputs": []
    },
    {
      "cell_type": "code",
      "metadata": {
        "id": "55TBDVp7PoGx"
      },
      "source": [
        "predRF = RF.predict(feat_test)\n",
        "CMRF=metrics.confusion_matrix(y_test,predRF)\n",
        "CMRF"
      ],
      "execution_count": null,
      "outputs": []
    },
    {
      "cell_type": "code",
      "metadata": {
        "id": "J31sLYYRP15U"
      },
      "source": [
        "import seaborn as sns\n",
        "sns.set(font_scale=1.1)\n",
        "#cmap=plt.cm.RdGy_r\n",
        "sns.heatmap(CMRF, annot=True,fmt='g')\n",
        "ax= plt.subplot()\n",
        "plt.title(\"CM_CNN+RF\")\n",
        "#plt.tight_layout()\n",
        "plt.ylabel(' True Label')\n",
        "plt.xlabel(' Predicted Label ')\n",
        "ax.xaxis.set_ticklabels(['Normal', 'COVID-19']); ax.yaxis.set_ticklabels(['Normal', 'COVID-19']);\n",
        "#ax.xaxis.set_ticklabels(['COVID-19', 'Pneumonia']); ax.yaxis.set_ticklabels(['COVID-19', 'Pneumonia']);\n",
        "#ax.xaxis.set_ticklabels(['Normal','COVID-19', 'Pneumonia']);\n",
        "#ax.yaxis.set_ticklabels(['Normal','COVID-19', 'Pneumonia']);\n",
        "plt.show()"
      ],
      "execution_count": null,
      "outputs": []
    },
    {
      "cell_type": "code",
      "metadata": {
        "id": "qrfOaIUEP9Nn"
      },
      "source": [
        "predDT = DT.predict(feat_test)\n",
        "CMDT=metrics.confusion_matrix(y_test,predDT)\n",
        "CMDT"
      ],
      "execution_count": null,
      "outputs": []
    },
    {
      "cell_type": "code",
      "metadata": {
        "id": "Tz6L5OGQQKkc"
      },
      "source": [
        "import seaborn as sns\n",
        "sns.set(font_scale=1.1)\n",
        "#cmap=plt.cm.RdGy_r\n",
        "sns.heatmap(CMDT, annot=True,fmt='g')\n",
        "ax= plt.subplot()\n",
        "plt.title(\"CM_CNN+DT\")\n",
        "#plt.tight_layout()\n",
        "plt.ylabel(' True Label')\n",
        "plt.xlabel(' Predicted Label ')\n",
        "ax.xaxis.set_ticklabels(['Normal', 'COVID-19']); ax.yaxis.set_ticklabels(['Normal', 'COVID-19']);\n",
        "#ax.xaxis.set_ticklabels(['COVID-19', 'Pneumonia']); ax.yaxis.set_ticklabels(['COVID-19', 'Pneumonia']);\n",
        "#ax.xaxis.set_ticklabels(['Normal','COVID-19', 'Pneumonia']);\n",
        "#ax.yaxis.set_ticklabels(['Normal','COVID-19', 'Pneumonia']);\n",
        "plt.show()"
      ],
      "execution_count": null,
      "outputs": []
    },
    {
      "cell_type": "code",
      "metadata": {
        "id": "kqAy2MKUlOTN"
      },
      "source": [
        "prednb = gnb.predict(feat_test)\n",
        "CMNB=metrics.confusion_matrix(y_test,prednb)\n",
        "CMNB"
      ],
      "execution_count": null,
      "outputs": []
    },
    {
      "cell_type": "code",
      "metadata": {
        "id": "amknP0JtuJDW"
      },
      "source": [
        "predmnb = BC.predict(feat_test)\n",
        "CM_MNB=metrics.confusion_matrix(y_test,predmnb)\n",
        "CM_MNB"
      ],
      "execution_count": null,
      "outputs": []
    },
    {
      "cell_type": "code",
      "metadata": {
        "id": "TilQbFSvZXOt"
      },
      "source": [
        "import seaborn as sns\n",
        "sns.set(font_scale=1.1)\n",
        "#cmap=plt.cm.RdGy_r\n",
        "sns.heatmap(CMNB, annot=True,fmt='g')\n",
        "ax= plt.subplot()\n",
        "plt.title(\"CM_CNN+GNB\")\n",
        "#plt.tight_layout()\n",
        "plt.ylabel(' True Label')\n",
        "plt.xlabel(' Predicted Label ')\n",
        "ax.xaxis.set_ticklabels(['Normal', 'COVID-19']); ax.yaxis.set_ticklabels(['Normal', 'COVID-19']);\n",
        "#ax.xaxis.set_ticklabels(['COVID-19', 'Pneumonia']); ax.yaxis.set_ticklabels(['COVID-19', 'Pneumonia']);\n",
        "#ax.xaxis.set_ticklabels(['Normal','COVID-19', 'Pneumonia']);\n",
        "#ax.yaxis.set_ticklabels(['Normal','COVID-19', 'Pneumonia']);\n",
        "plt.show()"
      ],
      "execution_count": null,
      "outputs": []
    },
    {
      "cell_type": "code",
      "metadata": {
        "id": "I0_qqrTvuYA-"
      },
      "source": [
        "import seaborn as sns\n",
        "sns.set(font_scale=1.1)\n",
        "#cmap=plt.cm.RdGy_r\n",
        "sns.heatmap(CM_MNB, annot=True,fmt='g')\n",
        "ax= plt.subplot()\n",
        "plt.title(\"CM_CNN+BC\")\n",
        "#plt.tight_layout()\n",
        "plt.ylabel(' True Label')\n",
        "plt.xlabel(' Predicted Label ')\n",
        "ax.xaxis.set_ticklabels(['Normal', 'COVID-19']); ax.yaxis.set_ticklabels(['Normal', 'COVID-19']);\n",
        "#ax.xaxis.set_ticklabels(['COVID-19', 'Pneumonia']); ax.yaxis.set_ticklabels(['COVID-19', 'Pneumonia']);\n",
        "#ax.xaxis.set_ticklabels(['Normal','COVID-19', 'Pneumonia']);\n",
        "#ax.yaxis.set_ticklabels(['Normal','COVID-19', 'Pneumonia']);\n",
        "plt.show()"
      ],
      "execution_count": null,
      "outputs": []
    },
    {
      "cell_type": "code",
      "metadata": {
        "id": "8j11S5TtZffp"
      },
      "source": [
        "predXGB = xgbc.predict(feat_test)\n",
        "CMXGB=metrics.confusion_matrix(y_test,predXGB)\n",
        "CMXGB"
      ],
      "execution_count": null,
      "outputs": []
    },
    {
      "cell_type": "code",
      "metadata": {
        "id": "rdy6fKyjZdoM"
      },
      "source": [
        "import seaborn as sns\n",
        "sns.set(font_scale=1.1)\n",
        "#cmap=plt.cm.RdGy_r\n",
        "sns.heatmap(CMXGB, annot=True,fmt='g')\n",
        "ax= plt.subplot()\n",
        "plt.title(\"CM_CNN+XGB\")\n",
        "#plt.tight_layout()\n",
        "plt.ylabel(' True Label')\n",
        "plt.xlabel(' Predicted Label ')\n",
        "ax.xaxis.set_ticklabels(['Normal', 'COVID-19']); ax.yaxis.set_ticklabels(['Normal', 'COVID-19']);\n",
        "#ax.xaxis.set_ticklabels(['COVID-19', 'Pneumonia']); ax.yaxis.set_ticklabels(['COVID-19', 'Pneumonia']);\n",
        "#ax.xaxis.set_ticklabels(['Normal','COVID-19', 'Pneumonia']);\n",
        "#ax.yaxis.set_ticklabels(['Normal','COVID-19', 'Pneumonia']);\n",
        "\n",
        "plt.show()"
      ],
      "execution_count": null,
      "outputs": []
    },
    {
      "cell_type": "code",
      "metadata": {
        "id": "E-71qh3YK58c"
      },
      "source": [
        "results=[1,23,33]\n",
        "names=[\"n\",\"m\",\"k\"]\n",
        "fig = plt.figure()\n",
        "fig.suptitle('Algorithm Comparison')\n",
        "ax = fig.add_subplot(111)\n",
        "for i,j in results:\n",
        "  plt.boxplot(results)\n",
        "  ax.set_xticklabels(names)\n",
        "  plt.show()"
      ],
      "execution_count": null,
      "outputs": []
    },
    {
      "cell_type": "code",
      "metadata": {
        "id": "tBMn-CWjSdfc"
      },
      "source": [
        "rmse = np.sqrt(mean_squared_error(y_test, label))\n",
        "print(\"RMSE: %f\" % (rmse))"
      ],
      "execution_count": null,
      "outputs": []
    },
    {
      "cell_type": "markdown",
      "metadata": {
        "id": "hCFDpHWLFmWQ"
      },
      "source": [
        "# Evaluation Scores\n"
      ]
    },
    {
      "cell_type": "code",
      "metadata": {
        "id": "m78iE-HlFnGv"
      },
      "source": [
        "from sklearn.metrics import accuracy_score\n",
        "from sklearn.metrics import roc_auc_score\n",
        "from sklearn.metrics import precision_score\n",
        "from sklearn.metrics import recall_score\n",
        "from sklearn.metrics import f1_score\n",
        "from sklearn.metrics import cohen_kappa_score\n",
        "from sklearn.metrics import mean_squared_error\n",
        "from sklearn.metrics import balanced_accuracy_score\n",
        "from sklearn.metrics import fbeta_score"
      ],
      "execution_count": null,
      "outputs": []
    },
    {
      "cell_type": "markdown",
      "metadata": {
        "id": "OBsyn6AoI-iS"
      },
      "source": [
        "## HQCNN and CNN Models"
      ]
    },
    {
      "cell_type": "code",
      "metadata": {
        "id": "JQl6EfuX-gTg"
      },
      "source": [
        "###########################  HQCNN ##############\n",
        "# accuracy: (tp + tn) / (p + n)\n",
        "accuracy = accuracy_score(y_test,label2)\n",
        "print('Accuracy: %f' % accuracy)\n",
        "\n",
        "accuracy = balanced_accuracy_score(y_test,label2)\n",
        "print('Balanced_Accuracy: %f' % accuracy)\n",
        "Pre=fbeta_score(y_test, label2, average='weighted', beta=2)\n",
        "rec=fbeta_score(y_test, label2, average='weighted', beta=0.5)\n",
        "print('Pre: %f' % Pre)\n",
        "print('rec: %f' % rec)\n",
        "\n",
        "# precision tp / (tp + fp)\n",
        "precision = precision_score(y_test,label2)\n",
        "print('Precision: %f' % precision)\n",
        "# recall: tp / (tp + fn)\n",
        "recall = recall_score(y_test,label2)\n",
        "print('Recall: %f' % recall)\n",
        "# f1: 2 tp / (2 tp + fp + fn)\n",
        "f1 = f1_score(y_test,label2)\n",
        "print('F1 score: %f' % f1)"
      ],
      "execution_count": null,
      "outputs": []
    },
    {
      "cell_type": "code",
      "metadata": {
        "id": "t123R_3s-qV8"
      },
      "source": [
        "accuracy = accuracy_score(y_test,predCls2)\n",
        "print('Accuracy: %f' % accuracy)\n",
        "##\n",
        "Pre=fbeta_score(y_test, predCls2, average='weighted', beta=2)\n",
        "rec=fbeta_score(y_test, predCls2, average='weighted', beta=0.5)\n",
        "print('Pre: %f' % Pre)\n",
        "print('rec: %f' % rec)\n",
        "accuracy = balanced_accuracy_score(y_test,predCls2)\n",
        "print('Balanced_Accuracy: %f' % accuracy)\n",
        "# precision tp / (tp + fp)\n",
        "precision = precision_score(y_test,predCls2)\n",
        "print('Precision: %f' % precision)\n",
        "# recall: tp / (tp + fn)\n",
        "recall = recall_score(y_test,predCls2)\n",
        "print('Recall: %f' % recall)\n",
        "# f1: 2 tp / (2 tp + fp + fn)\n",
        "f1 = f1_score(y_test,predCls2)\n",
        "print('F1 score: %f' % f1)"
      ],
      "execution_count": null,
      "outputs": []
    },
    {
      "cell_type": "code",
      "metadata": {
        "id": "nT4GT6fJSoiE"
      },
      "source": [
        "###########################  HQCNN ##############\n",
        "# accuracy: (tp + tn) / (p + n)\n",
        "accuracy = accuracy_score(y_test,label)\n",
        "print('Accuracy: %f' % accuracy)\n",
        "\n",
        "accuracy = balanced_accuracy_score(y_test,label)\n",
        "print('Balanced_Accuracy: %f' % accuracy)\n",
        "Pre=fbeta_score(y_test, label, average='weighted', beta=2)\n",
        "rec=fbeta_score(y_test, label, average='weighted', beta=0.5)\n",
        "print('Pre: %f' % Pre)\n",
        "print('rec: %f' % rec)\n",
        "\n",
        "# precision tp / (tp + fp)\n",
        "precision = precision_score(y_test,label)\n",
        "print('Precision: %f' % precision)\n",
        "# recall: tp / (tp + fn)\n",
        "recall = recall_score(y_test,label)\n",
        "print('Recall: %f' % recall)\n",
        "# f1: 2 tp / (2 tp + fp + fn)\n",
        "f1 = f1_score(y_test,label)\n",
        "print('F1 score: %f' % f1)\n",
        "\n",
        "# kappa\n",
        "#kappa = cohen_kappa_score(y_test,label)\n",
        "#print('Cohens kappa: %f' % kappa)\n",
        "# ROC AUC\n",
        "#auc = roc_auc_score(y_test,label)\n",
        "#print('ROC AUC: %f' % auc)\n",
        "# confusion matrix\n",
        "#matrix = confusion_matrix(y_test,label)\n",
        "#print(matrix)"
      ],
      "execution_count": null,
      "outputs": []
    },
    {
      "cell_type": "code",
      "metadata": {
        "id": "jmoCVma-l3Jj"
      },
      "source": [
        "###########################  CNN ##############\n",
        "# accuracy: (tp + tn) / (p + n)\n",
        "accuracy = accuracy_score(y_test,predCls)\n",
        "print('Accuracy: %f' % accuracy)\n",
        "##\n",
        "Pre=fbeta_score(y_test, predCls, average='weighted', beta=2)\n",
        "rec=fbeta_score(y_test, predCls, average='weighted', beta=0.5)\n",
        "print('Pre: %f' % Pre)\n",
        "print('rec: %f' % rec)\n",
        "accuracy = balanced_accuracy_score(y_test,predCls)\n",
        "print('Balanced_Accuracy: %f' % accuracy)\n",
        "# precision tp / (tp + fp)\n",
        "precision = precision_score(y_test,predCls)\n",
        "print('Precision: %f' % precision)\n",
        "# recall: tp / (tp + fn)\n",
        "recall = recall_score(y_test,predCls)\n",
        "print('Recall: %f' % recall)\n",
        "# f1: 2 tp / (2 tp + fp + fn)\n",
        "f1 = f1_score(y_test,label)\n",
        "print('F1 score: %f' % f1)\n",
        "\n",
        "# kappa\n",
        "#kappa = cohen_kappa_score(y_test,predCls)\n",
        "#print('Cohens kappa: %f' % kappa)\n",
        "# ROC AUC\n",
        "#auc = roc_auc_score(y_test,predCls)\n",
        "#print('ROC AUC: %f' % auc)\n",
        "# confusion matrix\n",
        "#matrix = confusion_matrix(y_test,label)\n",
        "#print(matrix)"
      ],
      "execution_count": null,
      "outputs": []
    },
    {
      "cell_type": "markdown",
      "metadata": {
        "id": "97BdX7kUJa8M"
      },
      "source": [
        "## Other ML Algorithms for comparsion"
      ]
    },
    {
      "cell_type": "code",
      "metadata": {
        "id": "yLsVZmSJJkUJ"
      },
      "source": [
        "# average 'weighted' is addes with Multi-class dataset"
      ],
      "execution_count": null,
      "outputs": []
    },
    {
      "cell_type": "code",
      "metadata": {
        "id": "ob7EiO0ZvF8H"
      },
      "source": [
        "# accuracy: (tp + tn) / (p + n)\n",
        "accuracy = accuracy_score(y_test,pred_mlp)\n",
        "print('Accuracy: %f' % accuracy)\n",
        "accuracy = balanced_accuracy_score(y_test,pred_mlp)\n",
        "print('Balanced_Accuracy: %f' % accuracy)\n",
        "\n",
        "Pre=fbeta_score(y_test, pred_mlp, average='weighted', beta=2)\n",
        "rec=fbeta_score(y_test, pred_mlp, average='weighted', beta=0.5)\n",
        "print('Pre: %f' % Pre)\n",
        "print('rec: %f' % rec)\n",
        "# precision tp / (tp + fp)\n",
        "precision = precision_score(y_test,pred_mlp,average=\"weighted\")\n",
        "print('Precision: %f' % precision)\n",
        "# recall: tp / (tp + fn)\n",
        "recall = recall_score(y_test,pred_mlp,average=\"weighted\")\n",
        "print('Recall: %f' % recall)\n",
        "# f1: 2 tp / (2 tp + fp + fn)\n",
        "f1 = f1_score(y_test,pred_mlp,average=\"weighted\")\n",
        "print('F1 score: %f' % f1)"
      ],
      "execution_count": null,
      "outputs": []
    },
    {
      "cell_type": "code",
      "metadata": {
        "id": "djLJ_bwOl5Sy"
      },
      "source": [
        "###########################  SVM_RBF ##############\n",
        "# accuracy: (tp + tn) / (p + n)\n",
        "accuracy = accuracy_score(y_test,predsvm)\n",
        "print('Accuracy: %f' % accuracy)\n",
        "\n",
        "accuracy = balanced_accuracy_score(y_test,predsvm)\n",
        "print('Balanced_Accuracy: %f' % accuracy)\n",
        "\n",
        "Pre=fbeta_score(y_test, predsvm, average='weighted', beta=2)\n",
        "rec=fbeta_score(y_test, predsvm, average='weighted', beta=0.5)\n",
        "print('Pre: %f' % Pre)\n",
        "print('rec: %f' % rec)\n",
        "\n",
        "# precision tp / (tp + fp)\n",
        "precision = precision_score(y_test,predsvm,average=\"weighted\")\n",
        "print('Precision: %f' % precision)\n",
        "# recall: tp / (tp + fn)\n",
        "recall = recall_score(y_test,predsvm,average=\"weighted\")\n",
        "print('Recall: %f' % recall)\n",
        "# f1: 2 tp / (2 tp + fp + fn)\n",
        "f1 = f1_score(y_test,predsvm,average=\"weighted\")\n",
        "print('F1 score: %f' % f1)\n",
        "\n"
      ],
      "execution_count": null,
      "outputs": []
    },
    {
      "cell_type": "code",
      "metadata": {
        "id": "9vwwk56ml8C4"
      },
      "source": [
        "###########################  SVM_POLY ##############\n",
        "# accuracy: (tp + tn) / (p + n)\n",
        "accuracy = accuracy_score(y_test,predsvmP)\n",
        "print('Accuracy: %f' % accuracy)\n",
        "accuracy = balanced_accuracy_score(y_test,predsvmP)\n",
        "print('Balanced_Accuracy: %f' % accuracy)\n",
        "\n",
        "Pre=fbeta_score(y_test, predsvmP, average='weighted', beta=2)\n",
        "rec=fbeta_score(y_test, predsvmP, average='weighted', beta=0.5)\n",
        "print('Pre: %f' % Pre)\n",
        "print('rec: %f' % rec)\n",
        "# precision tp / (tp + fp)\n",
        "precision = precision_score(y_test,predsvmP,average=\"weighted\")\n",
        "print('Precision: %f' % precision)\n",
        "# recall: tp / (tp + fn)\n",
        "recall = recall_score(y_test,predsvmP,average=\"weighted\")\n",
        "print('Recall: %f' % recall)\n",
        "# f1: 2 tp / (2 tp + fp + fn)\n",
        "f1 = f1_score(y_test,predsvmP,average=\"weighted\")\n",
        "print('F1 score: %f' % f1)\n",
        "\n"
      ],
      "execution_count": null,
      "outputs": []
    },
    {
      "cell_type": "code",
      "metadata": {
        "id": "hpxez3Ydl_VI"
      },
      "source": [
        "###########################  KNN ##############\n",
        "# accuracy: (tp + tn) / (p + n)\n",
        "accuracy = accuracy_score(y_test,predKNN)\n",
        "print('Accuracy: %f' % accuracy)\n",
        "\n",
        "accuracy = balanced_accuracy_score(y_test,predKNN)\n",
        "print('Balanced_Accuracy: %f' % accuracy)\n",
        "\n",
        "Pre=fbeta_score(y_test, predKNN, average='weighted', beta=2)\n",
        "rec=fbeta_score(y_test, predKNN, average='weighted', beta=0.5)\n",
        "print('Pre: %f' % Pre)\n",
        "print('rec: %f' % rec)\n",
        "\n",
        "# precision tp / (tp + fp)\n",
        "precision = precision_score(y_test,predKNN,average=\"weighted\")\n",
        "print('Precision: %f' % precision)\n",
        "# recall: tp / (tp + fn)\n",
        "recall = recall_score(y_test,predKNN,average=\"weighted\")\n",
        "print('Recall: %f' % recall)\n",
        "# f1: 2 tp / (2 tp + fp + fn)\n",
        "f1 = f1_score(y_test,predKNN,average=\"weighted\")\n",
        "print('F1 score: %f' % f1)\n"
      ],
      "execution_count": null,
      "outputs": []
    },
    {
      "cell_type": "code",
      "metadata": {
        "id": "B09mAOF1mMcM"
      },
      "source": [
        "###########################  ABC ##############\n",
        "# accuracy: (tp + tn) / (p + n)\n",
        "accuracy = accuracy_score(y_test, predABC)\n",
        "print('Accuracy: %f' % accuracy)\n",
        "\n",
        "accuracy = balanced_accuracy_score(y_test,predABC)\n",
        "print('Balanced_Accuracy: %f' % accuracy)\n",
        "\n",
        "Pre=fbeta_score(y_test, predABC, average='weighted', beta=2)\n",
        "rec=fbeta_score(y_test, predABC, average='weighted', beta=0.5)\n",
        "print('Pre: %f' % Pre)\n",
        "print('rec: %f' % rec)\n",
        "# precision tp / (tp + fp)\n",
        "precision = precision_score(y_test,predABC,average=\"weighted\")\n",
        "print('Precision: %f' % precision)\n",
        "# recall: tp / (tp + fn)\n",
        "recall = recall_score(y_test,predABC,average=\"weighted\")\n",
        "print('Recall: %f' % recall)\n",
        "# f1: 2 tp / (2 tp + fp + fn)\n",
        "f1 = f1_score(y_test,predABC,average=\"weighted\")\n",
        "print('F1 score: %f' % f1)\n",
        "\n"
      ],
      "execution_count": null,
      "outputs": []
    },
    {
      "cell_type": "code",
      "metadata": {
        "id": "Q0UJOYlfmPaI"
      },
      "source": [
        "###########################  RF ##############\n",
        "# accuracy: (tp + tn) / (p + n)\n",
        "accuracy = accuracy_score(y_test,predRF)\n",
        "print('Accuracy: %f' % accuracy)\n",
        "\n",
        "accuracy = balanced_accuracy_score(y_test,predRF)\n",
        "print('Balanced_Accuracy: %f' % accuracy)\n",
        "\n",
        "Pre=fbeta_score(y_test, predRF, average='weighted', beta=2)\n",
        "rec=fbeta_score(y_test, predRF, average='weighted', beta=0.5)\n",
        "print('Pre: %f' % Pre)\n",
        "print('rec: %f' % rec)\n",
        "# precision tp / (tp + fp)\n",
        "precision = precision_score(y_test,predRF,average=\"weighted\")\n",
        "print('Precision: %f' % precision)\n",
        "# recall: tp / (tp + fn)\n",
        "recall = recall_score(y_test,predRF,average=\"weighted\")\n",
        "print('Recall: %f' % recall)\n",
        "# f1: 2 tp / (2 tp + fp + fn)\n",
        "f1 = f1_score(y_test,predRF,average=\"weighted\")\n",
        "print('F1 score: %f' % f1)\n"
      ],
      "execution_count": null,
      "outputs": []
    },
    {
      "cell_type": "code",
      "metadata": {
        "id": "S0T0P7CMmSmh"
      },
      "source": [
        "###########################  DT ##############\n",
        "# accuracy: (tp + tn) / (p + n)\n",
        "accuracy = accuracy_score(y_test,predDT)\n",
        "print('Accuracy: %f' % accuracy)\n",
        "\n",
        "accuracy = balanced_accuracy_score(y_test,predDT)\n",
        "print('Balanced_Accuracy: %f' % accuracy)\n",
        "\n",
        "Pre=fbeta_score(y_test, predDT, average='weighted', beta=2)\n",
        "rec=fbeta_score(y_test, predDT, average='weighted', beta=0.5)\n",
        "print('Pre: %f' % Pre)\n",
        "print('rec: %f' % rec)\n",
        "# precision tp / (tp + fp)\n",
        "precision = precision_score(y_test,predDT,average=\"weighted\")\n",
        "print('Precision: %f' % precision)\n",
        "# recall: tp / (tp + fn)\n",
        "recall = recall_score(y_test,predDT,average=\"weighted\")\n",
        "print('Recall: %f' % recall)\n",
        "# f1: 2 tp / (2 tp + fp + fn)\n",
        "f1 = f1_score(y_test,predDT,average=\"weighted\")\n",
        "print('F1 score: %f' % f1)\n",
        "\n"
      ],
      "execution_count": null,
      "outputs": []
    },
    {
      "cell_type": "code",
      "metadata": {
        "id": "1UEjl_20mWDW"
      },
      "source": [
        "###########################  NB ##############\n",
        "# accuracy: (tp + tn) / (p + n)\n",
        "accuracy = accuracy_score(y_test,prednb)\n",
        "print('Accuracy: %f' % accuracy)\n",
        "\n",
        "accuracy = balanced_accuracy_score(y_test,prednb)\n",
        "print('Balanced_Accuracy: %f' % accuracy)\n",
        "\n",
        "Pre=fbeta_score(y_test, prednb, average='weighted', beta=2)\n",
        "rec=fbeta_score(y_test, prednb, average='weighted', beta=0.5)\n",
        "print('Pre: %f' % Pre)\n",
        "print('rec: %f' % rec)\n",
        "# precision tp / (tp + fp)\n",
        "precision = precision_score(y_test,prednb,average=\"weighted\")\n",
        "print('Precision: %f' % precision)\n",
        "# recall: tp / (tp + fn)\n",
        "recall = recall_score(y_test,prednb,average=\"weighted\")\n",
        "print('Recall: %f' % recall)\n",
        "# f1: 2 tp / (2 tp + fp + fn)\n",
        "f1 = f1_score(y_test,prednb,average=\"weighted\")\n",
        "print('F1 score: %f' % f1)\n",
        "\n"
      ],
      "execution_count": null,
      "outputs": []
    },
    {
      "cell_type": "code",
      "metadata": {
        "id": "n46s8v3bveXp"
      },
      "source": [
        "accuracy = accuracy_score(y_test,predmnb)\n",
        "print('Accuracy: %f' % accuracy)\n",
        "\n",
        "accuracy = balanced_accuracy_score(y_test,predmnb)\n",
        "print('Balanced_Accuracy: %f' % accuracy)\n",
        "\n",
        "Pre=fbeta_score(y_test, predmnb, average='weighted', beta=2)\n",
        "rec=fbeta_score(y_test, predmnb, average='weighted', beta=0.5)\n",
        "print('Pre: %f' % Pre)\n",
        "print('rec: %f' % rec)\n",
        "# precision tp / (tp + fp)\n",
        "precision = precision_score(y_test,predmnb,average=\"weighted\")\n",
        "print('Precision: %f' % precision)\n",
        "# recall: tp / (tp + fn)\n",
        "recall = recall_score(y_test,predmnb,average=\"weighted\")\n",
        "print('Recall: %f' % recall)\n",
        "# f1: 2 tp / (2 tp + fp + fn)\n",
        "f1 = f1_score(y_test,predmnb,average=\"weighted\")\n",
        "print('F1 score: %f' % f1)"
      ],
      "execution_count": null,
      "outputs": []
    },
    {
      "cell_type": "code",
      "metadata": {
        "id": "-nDjdJ2FmZAW"
      },
      "source": [
        "###########################  XGB ##############\n",
        "# accuracy: (tp + tn) / (p + n)\n",
        "accuracy = accuracy_score(y_test,predXGB)\n",
        "print('Accuracy: %f' % accuracy)\n",
        "\n",
        "accuracy = balanced_accuracy_score(y_test,predXGB)\n",
        "print('Balanced_Accuracy: %f' % accuracy)\n",
        "\n",
        "Pre=fbeta_score(y_test, predXGB, average='weighted', beta=2)\n",
        "rec=fbeta_score(y_test, predXGB, average='weighted', beta=0.5)\n",
        "print('Pre: %f' % Pre)\n",
        "print('rec: %f' % rec)\n",
        "# precision tp / (tp + fp)\n",
        "precision = precision_score(y_test,predXGB,average=\"weighted\")\n",
        "print('Precision: %f' % precision)\n",
        "# recall: tp / (tp + fn)\n",
        "recall = recall_score(y_test,predXGB,average=\"weighted\")\n",
        "print('Recall: %f' % recall)\n",
        "# f1: 2 tp / (2 tp + fp + fn)\n",
        "f1 = f1_score(y_test,predXGB,average=\"weighted\")\n",
        "print('F1 score: %f' % f1)\n"
      ],
      "execution_count": null,
      "outputs": []
    },
    {
      "cell_type": "markdown",
      "metadata": {
        "id": "Saiar5usGKkS"
      },
      "source": [
        "# ROC Curve\n"
      ]
    },
    {
      "cell_type": "markdown",
      "metadata": {
        "id": "DAKMca7EHNJa"
      },
      "source": [
        "## Binary Classification"
      ]
    },
    {
      "cell_type": "code",
      "metadata": {
        "id": "wgOHcKSH5-HE"
      },
      "source": [
        "from sklearn.metrics import roc_curve\n",
        "from sklearn.metrics import auc\n",
        "\n",
        "y_pred_Q = q_model.predict(q_test_imagesZ)[:,1]\n",
        "fpr_Q, tpr_Q, thresholds_cnn = roc_curve(y_test, y_pred_Q)\n",
        "auc_Q= auc(fpr_Q, tpr_Q)"
      ],
      "execution_count": null,
      "outputs": []
    },
    {
      "cell_type": "code",
      "metadata": {
        "id": "0RAsLVLe_Ufq"
      },
      "source": [
        "y_pred_Q2 = q_model2.predict(q_test_imagesZ2)[:,1]\n",
        "fpr_Q2, tpr_Q2, thresholds_cnn = roc_curve(y_test, y_pred_Q2)\n",
        "auc_Q2= auc(fpr_Q2, tpr_Q2)"
      ],
      "execution_count": null,
      "outputs": []
    },
    {
      "cell_type": "code",
      "metadata": {
        "id": "dzQbQzcQq9fS"
      },
      "source": [
        "y_pred_C = q_modelx.predict_proba(q_test_imagesZX)[:,1]\n",
        "#y_pred_MLP = mlp.predict_proba(test_images_P)\n",
        "#y_pred_svm = svm.predict_proba(feat_test)\n",
        "#y_pred_svm = svm.predict_proba(feat_test)\n"
      ],
      "execution_count": null,
      "outputs": []
    },
    {
      "cell_type": "code",
      "metadata": {
        "id": "v1c-26fT_0lx"
      },
      "source": [
        "y_pred_C2 = q_modelx2.predict(q_test_imagesZX2)[:,1]\n",
        "fpr_cnn2, tpr_cnn2, thresholds_cnn2 = roc_curve(y_test, y_pred_C2)\n",
        "auc_C2= auc(fpr_cnn2, tpr_cnn2)"
      ],
      "execution_count": null,
      "outputs": []
    },
    {
      "cell_type": "code",
      "metadata": {
        "id": "ZLTLkwF_AxHZ"
      },
      "source": [
        "#y_pred_C = VCmodel.predict_proba(test_images_P)[:,1]\n",
        "fpr_cnn, tpr_cnn, thresholds_cnn = roc_curve(y_test, y_pred_C)\n",
        "auc_C= auc(fpr_cnn, tpr_cnn)"
      ],
      "execution_count": null,
      "outputs": []
    },
    {
      "cell_type": "code",
      "metadata": {
        "id": "pgEhijnXv70t",
        "colab": {
          "base_uri": "https://localhost:8080/",
          "height": 52
        },
        "outputId": "5c4b6dc4-878d-4920-90d4-2bda49dfd02e"
      },
      "source": [
        "y_pred_MLP = mlp.predict_proba(test_images_P)[:,1]\n",
        "fpr_mlp, tpr_mlp, thresholds_mlp = roc_curve(y_test, y_pred_MLP,pos_label=3)\n",
        "auc_mlp= auc(fpr_mlp, tpr_mlp)"
      ],
      "execution_count": null,
      "outputs": [
        {
          "output_type": "stream",
          "text": [
            "/usr/local/lib/python3.6/dist-packages/sklearn/metrics/_ranking.py:808: UndefinedMetricWarning: No positive samples in y_true, true positive value should be meaningless\n",
            "  UndefinedMetricWarning)\n"
          ],
          "name": "stderr"
        }
      ]
    },
    {
      "cell_type": "code",
      "metadata": {
        "id": "V1dzJeWltc7w"
      },
      "source": [
        "y_pred_svmP = svmPoly.predict_proba(feat_test)\n",
        "y_pred_knn = neigh.predict_proba(feat_test)\n",
        "y_pred_abc = ABC.predict_proba(feat_test)\n",
        "y_pred_rf = RF.predict_proba(feat_test)\n",
        "###\n",
        "y_pred_dt = DT.predict_proba(feat_test)\n",
        "y_pred_nb = gnb.predict_proba(feat_test)\n",
        "y_pred_mnb = BC.predict_proba(feat_test)\n",
        "y_pred_xgb = xgbc.predict_proba(feat_test)\n"
      ],
      "execution_count": null,
      "outputs": []
    },
    {
      "cell_type": "code",
      "metadata": {
        "id": "7pJsLPl159QH"
      },
      "source": [
        "y_pred_svm = svm.predict_proba(feat_test)[:,1]\n",
        "fpr_svm, tpr_svm, thresholds_svm = roc_curve(y_test, y_pred_svm,pos_label=3)\n",
        "auc_svm= auc(fpr_svm, tpr_svm)\n",
        "###\n",
        "y_pred_svmP = svmPoly.predict_proba(feat_test)[:,1]\n",
        "fpr_svmP, tpr_svmP, thresholds_svmP = roc_curve(y_test, y_pred_svmP)\n",
        "auc_svmP= auc(fpr_svmP, tpr_svmP)\n",
        "##\n",
        "y_pred_knn = neigh.predict_proba(feat_test)[:,1]\n",
        "\n",
        "fpr_knn, tpr_knn, thresholds_KNN = roc_curve(y_test, y_pred_knn)\n",
        "auc_KNN= auc(fpr_knn, tpr_knn)\n",
        "###\n",
        "y_pred_abc = ABC.predict_proba(feat_test)[:,1]\n",
        "\n",
        "fpr_ABC, tpr_ABC, thresholds_ABC = roc_curve(y_test, y_pred_abc)\n",
        "auc_ABC= auc(fpr_ABC, tpr_ABC)\n",
        "###\n",
        "y_pred_rf = RF.predict_proba(feat_test)[:,1]\n",
        "\n",
        "fpr_RF, tpr_RF, thresholds_RF = roc_curve(y_test, y_pred_rf)\n",
        "auc_RF= auc(fpr_RF, tpr_RF)\n",
        "###\n",
        "y_pred_dt = DT.predict_proba(feat_test)[:,1]\n",
        "\n",
        "fpr_DT, tpr_DT, thresholds_DT = roc_curve(y_test, y_pred_dt)\n",
        "auc_DT= auc(fpr_DT, tpr_DT)\n",
        "###\n",
        "y_pred_nb = gnb.predict_proba(feat_test)[:,1]\n",
        "\n",
        "fpr_GNB, tpr_GNB, thresholds_GNB = roc_curve(y_test, y_pred_nb)\n",
        "auc_GNB= auc(fpr_GNB, tpr_GNB)\n",
        "###\n",
        "y_pred_mnb = BC.predict_proba(feat_test)[:,1]\n",
        "\n",
        "fpr_mnb, tpr_mnb, thresholds_mnb = roc_curve(y_test, y_pred_mnb)\n",
        "auc_mnb= auc(fpr_mnb, tpr_mnb)\n",
        "###\n",
        "y_pred_xgb = xgbc.predict_proba(feat_test)[:,1]\n",
        "fpr_XGB, tpr_XGB, thresholds_XGB = roc_curve(y_test, y_pred_xgb)\n",
        "auc_XGB= auc(fpr_XGB, tpr_XGB)\n"
      ],
      "execution_count": null,
      "outputs": []
    },
    {
      "cell_type": "markdown",
      "metadata": {
        "id": "cRq4oNwzHWsj"
      },
      "source": [
        "## Multi-class Classification"
      ]
    },
    {
      "cell_type": "code",
      "metadata": {
        "id": "LuIxyqojznjd"
      },
      "source": [
        "from sklearn.preprocessing import label_binarize\n",
        "\n",
        "Y = label_binarize(y_test,classes=[0, 1, 2])\n"
      ],
      "execution_count": null,
      "outputs": []
    },
    {
      "cell_type": "code",
      "metadata": {
        "id": "-9stAM040Zmx"
      },
      "source": [
        "from itertools import cycle\n"
      ],
      "execution_count": null,
      "outputs": []
    },
    {
      "cell_type": "code",
      "metadata": {
        "id": "NOX24Ot2rn5u"
      },
      "source": [
        "classes=[0, 1, 2]\n",
        "fpr_Q = dict()\n",
        "tpr_Q = dict()\n",
        "auc_Q = dict()\n",
        "fpr_cnn=dict()\n",
        "tpr_cnn=dict()\n",
        "auc_c=dict()\n",
        "fpr_mlp=dict()\n",
        "tpr_mlp=dict()\n",
        "auc_mlp=dict()\n",
        "fpr_svm=dict()\n",
        "tpr_svm=dict()\n",
        "auc_svm=dict()\n",
        "plt.style.use('seaborn-white')\n",
        "\n",
        "plt.figure(figsize=(8,9))\n",
        "#plt.rcParams['axes.facecolor'] = 'k'\n",
        "#plt.facecolor=\"w\"\n",
        "#plt.axes.color=\"k\"\n",
        "plt.plot([0, 1], [0, 1], 'k--')\n",
        "for i in range(3):\n",
        "    fpr_Q[i], tpr_Q[i], thresholds_Q = roc_curve(Y[:,i], y_pred_Q[:,i])\n",
        "    auc_Q[i] = auc(fpr_Q[i], tpr_Q[i])\n",
        "    fpr_cnn[i], tpr_cnn[i], thresholds_cnn = roc_curve(Y[:,i], y_pred_C[:,i])\n",
        "    auc_c[i]= auc(fpr_cnn[i], tpr_cnn[i])\n",
        "    fpr_mlp[i], tpr_mlp[i], thresholds_mlp = roc_curve(Y[:,i], y_pred_MLP[:,i])\n",
        "    auc_mlp[i]= auc(fpr_mlp[i], tpr_mlp[i])\n",
        "    fpr_svm[i], tpr_svm[i], thresholds_svm = roc_curve(Y[:,i], y_pred_svm[:,i])\n",
        "    auc_svm[i]= auc(fpr_svm[i], tpr_svm[i])\n",
        "    #colors = cycle(['r', 'b', 'tab:olive','c','k','g','y','tab:pink','tab:orange','tab:purple','m','tab:brown'])\n",
        "    colors = cycle(['b', 'r', 'c'])\n",
        "    colors1 = cycle(['k','g','y'])\n",
        "    colors2 = cycle(['m','tab:pink' ,'tab:brown'])\n",
        "    colors3 = cycle(['tab:olive','tab:orange','tab:purple'])\n",
        "\n",
        "\n",
        "\n",
        "for i, color in zip(range(3), colors):\n",
        "    plt.plot( fpr_Q[i], tpr_Q[i], color=color,\n",
        "             label='HQCNN class %i (area = %0.3f)'% (i,auc_Q[i]))\n",
        "for i, color in zip(range(3), colors1):\n",
        "    plt.plot( fpr_cnn[i], tpr_cnn[i], color=color,\n",
        "             label='CNN class %i (area = %0.3f)'% (i,auc_c[i] ))\n",
        "for i, color in zip(range(3), colors2):\n",
        "    plt.plot( fpr_mlp[i], tpr_mlp[i], color=color,\n",
        "             label='MLP class %i (area = %0.3f)'% (i,auc_mlp[i] ))\n",
        "for i, color in zip(range(3), colors3):\n",
        "    plt.plot( fpr_svm[i], tpr_svm[i], color=color,\n",
        "                label='CNN+SVM(rbf) class %i (area = %0.3f)'% (i,auc_svm[i] )) \n",
        "    \n",
        "plt.xlabel('False Positive Rate (FPR)')\n",
        "plt.ylabel('True Positive Rate (TPR)')\n",
        "plt.title('AUC-ROC Curve')\n",
        "plt.legend(loc='best')\n",
        "\n",
        "plt.show()\n"
      ],
      "execution_count": null,
      "outputs": []
    },
    {
      "cell_type": "code",
      "metadata": {
        "id": "xIqvIqm0tSmB"
      },
      "source": [
        "classes=[0, 1, 2]\n",
        "fpr_svmP= dict()\n",
        "tpr_svmP = dict()\n",
        "auc_svmP = dict()\n",
        "fpr_knn=dict()\n",
        "tpr_knn=dict()\n",
        "auc_knn=dict()\n",
        "fpr_abc=dict()\n",
        "tpr_abc=dict()\n",
        "auc_abc=dict()\n",
        "fpr_rf=dict()\n",
        "tpr_rf=dict()\n",
        "auc_rf=dict()\n",
        "plt.style.use('seaborn-white')\n",
        "\n",
        "plt.figure(figsize=(8,9))\n",
        "#plt.rcParams['axes.facecolor'] = 'k'\n",
        "#plt.facecolor=\"w\"\n",
        "#plt.axes.color=\"k\"\n",
        "plt.plot([0, 1], [0, 1], 'k--')\n",
        "for i in range(3):\n",
        "    fpr_svmP[i], tpr_svmP[i], thresholds_Q = roc_curve(Y[:,i], y_pred_svmP[:,i])\n",
        "    auc_svmP[i] = auc(fpr_svmP[i], tpr_svmP[i])\n",
        "    fpr_knn[i], tpr_knn[i], thresholds_cnn = roc_curve(Y[:,i], y_pred_knn[:,i])\n",
        "    auc_knn[i]= auc(fpr_knn[i], tpr_knn[i])\n",
        "    fpr_abc[i], tpr_abc[i], thresholds_mlp = roc_curve(Y[:,i], y_pred_abc[:,i])\n",
        "    auc_abc[i]= auc(fpr_abc[i], tpr_abc[i])\n",
        "    fpr_rf[i], tpr_rf[i], thresholds_svm = roc_curve(Y[:,i], y_pred_rf[:,i])\n",
        "    auc_rf[i]= auc(fpr_rf[i], tpr_rf[i])\n",
        "    #colors = cycle(['r', 'b', 'tab:olive','c','k','g','y','tab:pink','tab:orange','tab:purple','m','tab:brown'])\n",
        "    colors = cycle(['b', 'r', 'c'])\n",
        "    colors1 = cycle(['k','g','y'])\n",
        "    colors2 = cycle(['m','tab:pink' ,'tab:brown'])\n",
        "    colors3 = cycle(['tab:olive','tab:orange','tab:purple'])\n",
        "\n",
        "\n",
        "\n",
        "for i, color in zip(range(3), colors):\n",
        "    plt.plot( fpr_svmP[i], tpr_svmP[i], color=color,\n",
        "             label='CNN+SVM(Poly) class %i (area = %0.3f)'% (i,auc_svmP[i]))\n",
        "for i, color in zip(range(3), colors1):\n",
        "    plt.plot( fpr_knn[i], tpr_knn[i], color=color,\n",
        "             label='CNN+KNN class %i (area = %0.3f)'% (i,auc_knn[i] ))\n",
        "for i, color in zip(range(3), colors2):\n",
        "    plt.plot( fpr_abc[i], tpr_abc[i], color=color,\n",
        "             label='CNN+AdaBoost class %i (area = %0.3f)'% (i,auc_abc[i] ))\n",
        "for i, color in zip(range(3), colors3):\n",
        "    plt.plot( fpr_rf[i], tpr_rf[i], color=color,\n",
        "                label='CNN+RF class %i (area = %0.3f)'% (i,auc_rf[i] )) \n",
        "    \n",
        "plt.xlabel('False Positive Rate (FPR)')\n",
        "plt.ylabel('True Positive Rate (TPR)')\n",
        "plt.title('AUC-ROC Curve')\n",
        "plt.legend(loc='best')\n",
        "\n",
        "plt.show()\n"
      ],
      "execution_count": null,
      "outputs": []
    },
    {
      "cell_type": "code",
      "metadata": {
        "id": "PHQvW3motXDc"
      },
      "source": [
        "classes=[0, 1, 2]\n",
        "fpr_dt = dict()\n",
        "tpr_dt = dict()\n",
        "auc_dt = dict()\n",
        "fpr_nb=dict()\n",
        "tpr_nb=dict()\n",
        "auc_nb=dict()\n",
        "fpr_bc=dict()\n",
        "tpr_bc=dict()\n",
        "auc_bc=dict()\n",
        "fpr_xgb=dict()\n",
        "tpr_xgb=dict()\n",
        "auc_xgb=dict()\n",
        "plt.style.use('seaborn-white')\n",
        "\n",
        "plt.figure(figsize=(8,9))\n",
        "#plt.rcParams['axes.facecolor'] = 'k'\n",
        "#plt.facecolor=\"w\"\n",
        "#plt.axes.color=\"k\"\n",
        "plt.plot([0, 1], [0, 1], 'k--')\n",
        "for i in range(3):\n",
        "    fpr_bc[i], tpr_bc[i], thresholds_Q = roc_curve(Y[:,i], y_pred_mnb[:,i])\n",
        "    auc_bc[i] = auc(fpr_bc[i], tpr_bc[i])\n",
        "    fpr_dt[i], tpr_dt[i], thresholds_cnn = roc_curve(Y[:,i], y_pred_dt[:,i])\n",
        "    auc_dt[i]= auc(fpr_dt[i], tpr_dt[i])\n",
        "    fpr_nb[i], tpr_nb[i], thresholds_mlp = roc_curve(Y[:,i], y_pred_nb[:,i])\n",
        "    auc_nb[i]= auc(fpr_nb[i], tpr_nb[i])\n",
        "    fpr_xgb[i], tpr_xgb[i], thresholds_svm = roc_curve(Y[:,i], y_pred_xgb[:,i])\n",
        "    auc_xgb[i]= auc(fpr_xgb[i], tpr_xgb[i])\n",
        "    #colors = cycle(['r', 'b', 'tab:olive','c','k','g','y','tab:pink','tab:orange','tab:purple','m','tab:brown'])\n",
        "    colors = cycle(['b', 'r', 'c'])\n",
        "    colors1 = cycle(['k','g','y'])\n",
        "    colors2 = cycle(['m','tab:pink' ,'tab:brown'])\n",
        "    colors3 = cycle(['tab:olive','tab:orange','tab:purple'])\n",
        "\n",
        "\n",
        "\n",
        "for i, color in zip(range(3), colors):\n",
        "    plt.plot( fpr_bc[i], tpr_bc[i], color=color,\n",
        "             label='CNN+BC class %i (area = %0.3f)'% (i,auc_bc[i]))\n",
        "for i, color in zip(range(3), colors1):\n",
        "    plt.plot( fpr_dt[i], tpr_dt[i], color=color,\n",
        "             label='CNN+DT class %i (area = %0.3f)'% (i,auc_dt[i] ))\n",
        "for i, color in zip(range(3), colors2):\n",
        "    plt.plot( fpr_nb[i], tpr_nb[i], color=color,\n",
        "             label='CNN+GNB class %i (area = %0.3f)'% (i,auc_nb[i] ))\n",
        "for i, color in zip(range(3), colors3):\n",
        "    plt.plot( fpr_xgb[i], tpr_xgb[i], color=color,\n",
        "                label='CNN+XGBoost class %i (area = %0.3f)'% (i,auc_xgb[i] )) \n",
        "    \n",
        "plt.xlabel('False Positive Rate (FPR)')\n",
        "plt.ylabel('True Positive Rate (TPR)')\n",
        "plt.title('AUC-ROC Curve')\n",
        "plt.legend(loc='best')\n",
        "\n",
        "plt.show()\n"
      ],
      "execution_count": null,
      "outputs": []
    },
    {
      "cell_type": "markdown",
      "metadata": {
        "id": "js_SeqCnGaxG"
      },
      "source": [
        "## RY and RX **Comparsion**"
      ]
    },
    {
      "cell_type": "code",
      "metadata": {
        "id": "4E8tEswpBHrf"
      },
      "source": [
        "plt.style.use('seaborn-white')\n",
        "\n",
        "plt.figure(figsize=(7,7))\n",
        "#plt.rcParams['axes.facecolor'] = 'k'\n",
        "#plt.facecolor=\"w\"\n",
        "#plt.axes.color=\"k\"\n",
        "plt.plot([0, 1], [0, 1], 'k--')\n",
        "plt.plot(fpr_Q, tpr_Q,'m',label=' HQCNN +RY+500 shots (area = {:.3f})'.format(auc_Q))\n",
        "plt.plot(fpr_cnn, tpr_cnn,'g', label=' HQCNN+RX+500 shots (area = {:.3f})'.format(auc_C))\n",
        "plt.plot(fpr_Q2, tpr_Q2,'r',label=' HQCNN +RY+1000 shots (area = {:.3f})'.format(auc_Q2))\n",
        "plt.plot(fpr_cnn2, tpr_cnn2,'b', label=' HQCNN+RX+1000 shots (area = {:.3f})'.format(auc_C2))\n",
        "#plt.plot(fpr_mlp, tpr_mlp,'tab:olive', label=' MLP (area = {:.3f})'.format(auc_mlp))\n",
        "#plt.plot(fpr_svm, tpr_svm,'c', label=' CNN+SVM (RBF) (area = {:.3f})'.format(auc_svm))\n",
        "#plt.plot(fpr_svmP, tpr_svmP,'k', label=' CNN+SVM (Poly) (area = {:.3f})'.format(auc_svmP))\n",
        "##plt.plot(fpr_knn, tpr_knn,'g', label=' CNN+KNN (area = {:.3f})'.format(auc_KNN))\n",
        "#plt.plot(fpr_ABC, tpr_ABC,'y', label=' CNN+AdaBoost (area = {:.3f})'.format(auc_ABC))\n",
        "#plt.plot(fpr_RF, tpr_RF,'tab:pink', label=' CNN+RF (area = {:.3f})'.format(auc_RF))\n",
        "#plt.plot(fpr_mnb, tpr_mnb,'tab:orange', label=' CNN+BC (area = {:.3f})'.format(auc_mnb))\n",
        "#plt.plot(fpr_DT, tpr_DT,'tab:purple', label=' CNN+DT (area = {:.3f})'.format(auc_DT))\n",
        "#plt.plot(fpr_GNB, tpr_GNB,'m', label=' CNN+GNB (area = {:.3f})'.format(auc_GNB))\n",
        "#plt.plot(fpr_XGB, tpr_XGB,'tab:brown', label=' CNN+XGBoost (area = {:.3f})'.format(auc_XGB))\n",
        "\n",
        "plt.xlabel('False Positive Rate (FPR)')\n",
        "plt.ylabel('True Positive Rate (TPR)')\n",
        "plt.title('AUC-ROC Curve')\n",
        "plt.legend(loc='best')\n",
        "\n",
        "plt.show()\n"
      ],
      "execution_count": null,
      "outputs": []
    },
    {
      "cell_type": "code",
      "metadata": {
        "id": "3bQKN9HUebhE"
      },
      "source": [
        "from sklearn.metrics import roc_curve, auc\n",
        "false_positive_rate, true_positive_rate, thresholds = roc_curve(y_test, label)\n",
        "roc_auc = auc(false_positive_rate, true_positive_rate)\n",
        "roc_auc"
      ],
      "execution_count": null,
      "outputs": []
    },
    {
      "cell_type": "code",
      "metadata": {
        "id": "ov6f6fFoGFO1"
      },
      "source": [
        "import matplotlib.pyplot as plt\n"
      ],
      "execution_count": null,
      "outputs": []
    },
    {
      "cell_type": "code",
      "metadata": {
        "id": "FcFFSHTjJuMS"
      },
      "source": [
        "plt.style.use('seaborn-white')\n",
        "\n",
        "fig, (ax1, ax2) = plt.subplots(2, 1, figsize=(6 ,8))\n",
        "epochs_=range(0,20)    \n",
        "#ax1.set_ylim(top= 100) \n",
        "ax1.set_xlim(right=20) \n",
        "ax1.plot(epochs_,q_history.history[\"val_accuracy\"],'b' , label=\" Test Accuarcy + HQCNN+RY+500 shots \")\n",
        "ax1.plot(epochs_,q_history2.history[\"val_accuracy\"],'r',  label=\" Test Accuarcy + HQCNN+RY+1000 shots \")\n",
        "ax1.plot(epochs_,q_historyx.history[\"val_accuracy\"], 'g', label=\" Test Accuarcy + HQCNN+RX+500 shots \")\n",
        "ax1.plot(epochs_,q_historyx2.history[\"val_accuracy\"], 'c', label=\" Test Accuarcy + HQCNN+RX+1000 shots\")\n",
        "ax1.set_ylabel(\"Accuracy\")\n",
        "#ax1.set_ylim(top=100)\n",
        "\n",
        "ax1.set_xlabel(\"Epochs\")\n",
        "ax1.legend(loc=\"best\")\n",
        "\n",
        "ax2.plot(epochs_,q_history.history[\"val_loss\"], 'b', label=\" Test Loss + HQCNN+RY+500 shots\")\n",
        "ax2.plot(epochs_,q_history2.history[\"val_loss\"], 'r', label=\" Test Loss + HQCNN+RY+1000 shots\")\n",
        "ax2.plot(epochs_,q_historyx.history[\"val_loss\"], 'g', label=\" Test Loss + HQCNN+RX+500 shots\")\n",
        "ax2.plot(epochs_,q_historyx2.history[\"val_loss\"],'c',  label=\" Test Loss+ HQCNN+RX+1000 shots\")\n",
        "ax2.set_ylabel(\"Loss\")\n",
        "ax2.set_ylim(top=.5)\n",
        "ax2.set_xlim(left=1,right=20) \n",
        "\n",
        "#ax2.set_xlim(right=20)\n",
        "ax2.set_xlabel(\"Epochs\")\n",
        "ax2.legend()\n",
        "plt.tight_layout()\n",
        "plt.show()\n"
      ],
      "execution_count": null,
      "outputs": []
    },
    {
      "cell_type": "code",
      "metadata": {
        "id": "VKHRilWQYWuN"
      },
      "source": [
        "from sklearn.metrics import precision_recall_curve\n",
        "Q_probs = q_model.predict_proba(q_test_imagesZ)[:,1]\n",
        "C_probs = VCmodel.predict_proba(xxx_ttest)[:,1]\n",
        "svm_probs = svm.predict_proba(feat_test)[:,1]\n",
        "svmP_probs = svmPoly.predict_proba(feat_test)[:,1]\n",
        "knn_probs = neigh.predict_proba(feat_test)[:,1]\n",
        "abc_probs = ABC.predict_proba(feat_test)[:,1]\n",
        "rf_probs = RF.predict_proba(feat_test)[:,1]\n",
        "dt_probs = DT.predict_proba(feat_test)[:,1]\n",
        "gnb_probs = gnb.predict_proba(feat_test)[:,1]\n",
        "xgb_probs = xgbc.predict_proba(feat_test)[:,1]\n",
        "\n",
        "\n",
        "# keep probabilities for the positive outcome only\n",
        "#Q_probs = Q_probs[:, 1]\n",
        "#C_probs = C_probs[:, 1]\n",
        "\n",
        "# calculate scores\n",
        "C_auc = roc_auc_score(y_test, C_probs)\n",
        "Q_auc = roc_auc_score(y_test, Q_probs)\n",
        "# calculate precision and recall for each threshold\n",
        "Q_precision, Q_recall, _ = precision_recall_curve(y_test,Q_probs)\n",
        "C_precision, C_recall, _ = precision_recall_curve(y_test,C_probs)\n",
        "svm_precision, svm_recall, _ = precision_recall_curve(y_test,svm_probs)\n",
        "svmP_precision, svmP_recall, _ = precision_recall_curve(y_test,svmP_probs)\n",
        "knn_precision, knn_recall, _ = precision_recall_curve(y_test,knn_probs)\n",
        "abc_precision, abc_recall, _ = precision_recall_curve(y_test,abc_probs)\n",
        "rf_precision, rf_recall, _ = precision_recall_curve(y_test,rf_probs)\n",
        "dt_precision, dt_recall, _ = precision_recall_curve(y_test,dt_probs)\n",
        "gnb_precision, gnb_recall, _ = precision_recall_curve(y_test,gnb_probs)\n",
        "xgbprecision, xgbrecall, _ = precision_recall_curve(y_test,xgb_probs)\n",
        "\n",
        "# calculate scores\n",
        "\n",
        "# summarize scores\n",
        "\n",
        "plt.figure(figsize=(8,8))\n",
        "plt.title(' Precision-Recall Curve')\n",
        "# plot the precision-recall curves\n",
        "#no_skill = len(testy[testy==1]) / len(testy)\n",
        "#pyplot.plot([0, 1], [no_skill, no_skill], linestyle='--', label='No Skill')\n",
        "plt.plot(Q_recall, Q_precision, \"m\",  label='HQCNN')\n",
        "plt.plot(C_recall, C_precision,'b', label='CNN')\n",
        "plt.plot(svm_recall, svm_precision, \"c\",  label='CNN+SVM(RBF)')\n",
        "plt.plot(svmP_recall, svmP_precision,'k', label='CNN+SVM(POLY)')\n",
        "plt.plot(knn_recall, knn_precision, \"g\",  label='CNN+KNN')\n",
        "plt.plot(abc_recall, abc_precision,'y', label='CNN+AdaBoost')\n",
        "plt.plot(rf_recall, rf_precision, \"tab:pink\",  label='CNN+RF')\n",
        "plt.plot(dt_recall, dt_precision,'tab:purple', label='CNN+DT')\n",
        "plt.plot(gnb_recall, gnb_precision, \"r\",  label='CNN+GNB')\n",
        "plt.plot(xgbrecall, xgbprecision,'tab:cyan', label='CNN+XGBoost')\n",
        "# axis labels\n",
        "plt.xlabel('Recall')\n",
        "plt.ylabel('Precision')\n",
        "# show the legend\n",
        "plt.legend(loc='best')\n",
        "# show the plot\n",
        "plt.show()\n",
        "print(Q_auc)"
      ],
      "execution_count": null,
      "outputs": []
    },
    {
      "cell_type": "code",
      "metadata": {
        "id": "ejZsZehJhK0_"
      },
      "source": [
        "\n",
        "\n",
        "from sklearn.metrics import roc_curve\n",
        "from sklearn.metrics import roc_auc_score\n",
        "from matplotlib import pyplot\n",
        "\n",
        "# predict probabilities\n",
        "Q_probs = q_model.predict_proba(q_test_imagesZ)\n",
        "C_probs = VCmodel.predict_proba(test_imgs)\n",
        "\n",
        "# keep probabilities for the positive outcome only\n",
        "Q_probs = Q_probs[:, 1]\n",
        "C_probs = C_probs[:, 1]\n",
        "\n",
        "# calculate scores\n",
        "C_auc = roc_auc_score(y_test_PP, C_probs)\n",
        "Q_auc = roc_auc_score(y_test_PP, Q_probs)\n",
        "# summarize scores\n",
        "print(' QCNN: ROC AUC=%.3f' % (Q_auc))\n",
        "print(' CNN: ROC AUC=%.3f' % (C_auc))\n",
        "\n",
        "# calculate roc curves\n",
        "ns_fpr, ns_tpr, _ = roc_curve(y_test_PP, C_probs)\n",
        "lr_fpr, lr_tpr, _ = roc_curve(y_test_PP, Q_probs)\n",
        "# plot the roc curve for the model\n",
        "pyplot.plot(ns_fpr, ns_tpr, linestyle='--', label='CNN')\n",
        "pyplot.plot(lr_fpr, lr_tpr, marker='.', label='QCNN')\n",
        "# axis labels\n",
        "pyplot.xlabel('False Positive Rate')\n",
        "pyplot.ylabel('True Positive Rate')\n",
        "# show the legend\n",
        "pyplot.legend()\n",
        "# show the plot\n",
        "pyplot.show()"
      ],
      "execution_count": null,
      "outputs": []
    }
  ]
}